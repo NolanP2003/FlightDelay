{
 "cells": [
  {
   "cell_type": "markdown",
   "id": "663f7dc4-ca30-4c5f-9b9c-c33bd8af2e93",
   "metadata": {},
   "source": [
    "# 1. Create Spark Session & Import Libraries"
   ]
  },
  {
   "cell_type": "code",
   "execution_count": 1,
   "id": "87b93c34-4104-480f-bc28-49712f3b93e6",
   "metadata": {},
   "outputs": [],
   "source": [
    "# if pyspark needs to be installed:\n",
    "# !pip install pyspark findspark"
   ]
  },
  {
   "cell_type": "code",
   "execution_count": 2,
   "id": "abcac8a3-a758-4444-9faf-71263f997c20",
   "metadata": {},
   "outputs": [
    {
     "name": "stderr",
     "output_type": "stream",
     "text": [
      "Setting default log level to \"WARN\".\n",
      "To adjust logging level use sc.setLogLevel(newLevel). For SparkR, use setLogLevel(newLevel).\n",
      "25/05/07 05:16:02 WARN NativeCodeLoader: Unable to load native-hadoop library for your platform... using builtin-java classes where applicable\n"
     ]
    }
   ],
   "source": [
    "# spark libraries\n",
    "import findspark\n",
    "from pyspark.sql import SparkSession\n",
    "from pyspark.sql import functions as F\n",
    "from pyspark.sql.types import StringType, IntegerType, DoubleType, DateType, StructType, StructField\n",
    "\n",
    "# ds libraries\n",
    "import matplotlib.pyplot as plt\n",
    "import seaborn as sns\n",
    "import pandas as pd\n",
    "import numpy as np\n",
    "\n",
    "# ml libraries\n",
    "from pyspark.ml import Pipeline\n",
    "from pyspark.ml.feature import StringIndexer, OneHotEncoder, VectorAssembler, MinMaxScaler, StandardScaler\n",
    "from pyspark.ml.classification import RandomForestClassifier, LogisticRegression, GBTClassifier\n",
    "from pyspark.ml.evaluation import BinaryClassificationEvaluator, MulticlassClassificationEvaluator\n",
    "from pyspark.mllib.evaluation import MulticlassMetrics\n",
    "\n",
    "findspark.init()\n",
    "\n",
    "spark = SparkSession.builder \\\n",
    "    .appName(\"FlightDelayBatchProcessing\") \\\n",
    "    .config(\"spark.driver.memory\", \"16g\") \\\n",
    "    .config(\"spark.executor.memory\", \"16g\") \\\n",
    "    .getOrCreate()"
   ]
  },
  {
   "cell_type": "markdown",
   "id": "d1c9aa3d-b2e8-4546-a41b-0a36b87459ad",
   "metadata": {},
   "source": [
    "# 2. Define Schema & Data Preprocessing"
   ]
  },
  {
   "cell_type": "code",
   "execution_count": 3,
   "id": "9bc94a04-be5d-469a-a251-44273b2c2d82",
   "metadata": {},
   "outputs": [],
   "source": [
    "# define schema\n",
    "schema = StructType([\n",
    "    StructField(\"FL_DATE\", StringType(), True),\n",
    "    StructField(\"AIRLINE\", StringType(), True),\n",
    "    StructField(\"AIRLINE_DOT\", StringType(), True),\n",
    "    StructField(\"AIRLINE_CODE\", StringType(), True),\n",
    "    StructField(\"DOT_CODE\", IntegerType(), True),\n",
    "    StructField(\"FL_NUMBER\", IntegerType(), True),\n",
    "    StructField(\"ORIGIN\", StringType(), True),\n",
    "    StructField(\"ORIGIN_CITY\", StringType(), True),\n",
    "    StructField(\"DEST\", StringType(), True),\n",
    "    StructField(\"DEST_CITY\", StringType(), True),\n",
    "    StructField(\"CRS_DEP_TIME\", IntegerType(), True),\n",
    "    StructField(\"DEP_TIME\", DoubleType(), True),\n",
    "    StructField(\"DEP_DELAY\", DoubleType(), True),\n",
    "    StructField(\"TAXI_OUT\", DoubleType(), True),\n",
    "    StructField(\"WHEELS_OFF\", DoubleType(), True),\n",
    "    StructField(\"WHEELS_ON\", DoubleType(), True),\n",
    "    StructField(\"TAXI_IN\", DoubleType(), True),\n",
    "    StructField(\"CRS_ARR_TIME\", IntegerType(), True),\n",
    "    StructField(\"ARR_TIME\", DoubleType(), True),\n",
    "    StructField(\"ARR_DELAY\", DoubleType(), True),\n",
    "    StructField(\"CANCELLED\", DoubleType(), True),\n",
    "    StructField(\"CANCELLATION_CODE\", StringType(), True),\n",
    "    StructField(\"DIVERTED\", DoubleType(), True),\n",
    "    StructField(\"CRS_ELAPSED_TIME\", DoubleType(), True),\n",
    "    StructField(\"ELAPSED_TIME\", DoubleType(), True),\n",
    "    StructField(\"AIR_TIME\", DoubleType(), True),\n",
    "    StructField(\"DISTANCE\", DoubleType(), True),\n",
    "    StructField(\"DELAY_DUE_CARRIER\", DoubleType(), True),\n",
    "    StructField(\"DELAY_DUE_WEATHER\", DoubleType(), True),\n",
    "    StructField(\"DELAY_DUE_NAS\", DoubleType(), True),\n",
    "    StructField(\"DELAY_DUE_SECURITY\", DoubleType(), True),\n",
    "    StructField(\"DELAY_DUE_LATE_AIRCRAFT\", DoubleType(), True)\n",
    "])\n",
    "\n",
    "# read in csv data file\n",
    "data_path = \"flight_data.csv\"\n",
    "df = spark.read.csv(data_path, header=True, schema=schema)\n",
    "\n",
    "# edit formatting of flight date\n",
    "df = df.withColumn(\"FL_DATE\", F.to_date(F.col(\"FL_DATE\"), \"yyyy-MM-dd\"))"
   ]
  },
  {
   "cell_type": "markdown",
   "id": "0abdef5d-4f46-4b7b-8e07-c38fdbe3c777",
   "metadata": {},
   "source": [
    "### Data Checking"
   ]
  },
  {
   "cell_type": "code",
   "execution_count": 4,
   "id": "e418a8b2-faf4-4292-9082-98e9f6d15234",
   "metadata": {},
   "outputs": [
    {
     "name": "stdout",
     "output_type": "stream",
     "text": [
      "root\n",
      " |-- FL_DATE: date (nullable = true)\n",
      " |-- AIRLINE: string (nullable = true)\n",
      " |-- AIRLINE_DOT: string (nullable = true)\n",
      " |-- AIRLINE_CODE: string (nullable = true)\n",
      " |-- DOT_CODE: integer (nullable = true)\n",
      " |-- FL_NUMBER: integer (nullable = true)\n",
      " |-- ORIGIN: string (nullable = true)\n",
      " |-- ORIGIN_CITY: string (nullable = true)\n",
      " |-- DEST: string (nullable = true)\n",
      " |-- DEST_CITY: string (nullable = true)\n",
      " |-- CRS_DEP_TIME: integer (nullable = true)\n",
      " |-- DEP_TIME: double (nullable = true)\n",
      " |-- DEP_DELAY: double (nullable = true)\n",
      " |-- TAXI_OUT: double (nullable = true)\n",
      " |-- WHEELS_OFF: double (nullable = true)\n",
      " |-- WHEELS_ON: double (nullable = true)\n",
      " |-- TAXI_IN: double (nullable = true)\n",
      " |-- CRS_ARR_TIME: integer (nullable = true)\n",
      " |-- ARR_TIME: double (nullable = true)\n",
      " |-- ARR_DELAY: double (nullable = true)\n",
      " |-- CANCELLED: double (nullable = true)\n",
      " |-- CANCELLATION_CODE: string (nullable = true)\n",
      " |-- DIVERTED: double (nullable = true)\n",
      " |-- CRS_ELAPSED_TIME: double (nullable = true)\n",
      " |-- ELAPSED_TIME: double (nullable = true)\n",
      " |-- AIR_TIME: double (nullable = true)\n",
      " |-- DISTANCE: double (nullable = true)\n",
      " |-- DELAY_DUE_CARRIER: double (nullable = true)\n",
      " |-- DELAY_DUE_WEATHER: double (nullable = true)\n",
      " |-- DELAY_DUE_NAS: double (nullable = true)\n",
      " |-- DELAY_DUE_SECURITY: double (nullable = true)\n",
      " |-- DELAY_DUE_LATE_AIRCRAFT: double (nullable = true)\n",
      "\n"
     ]
    }
   ],
   "source": [
    "# show df schema\n",
    "df.printSchema()"
   ]
  },
  {
   "cell_type": "code",
   "execution_count": 5,
   "id": "b6642667-9169-458e-8b53-a7ef0a327bff",
   "metadata": {},
   "outputs": [
    {
     "name": "stderr",
     "output_type": "stream",
     "text": [
      "25/05/07 05:16:11 WARN SparkStringUtils: Truncated the string representation of a plan since it was too large. This behavior can be adjusted by setting 'spark.sql.debug.maxToStringFields'.\n",
      "                                                                                "
     ]
    },
    {
     "data": {
      "text/html": [
       "<div>\n",
       "<style scoped>\n",
       "    .dataframe tbody tr th:only-of-type {\n",
       "        vertical-align: middle;\n",
       "    }\n",
       "\n",
       "    .dataframe tbody tr th {\n",
       "        vertical-align: top;\n",
       "    }\n",
       "\n",
       "    .dataframe thead th {\n",
       "        text-align: right;\n",
       "    }\n",
       "</style>\n",
       "<table border=\"1\" class=\"dataframe\">\n",
       "  <thead>\n",
       "    <tr style=\"text-align: right;\">\n",
       "      <th></th>\n",
       "      <th>FL_DATE</th>\n",
       "      <th>AIRLINE</th>\n",
       "      <th>AIRLINE_DOT</th>\n",
       "      <th>AIRLINE_CODE</th>\n",
       "      <th>DOT_CODE</th>\n",
       "      <th>FL_NUMBER</th>\n",
       "      <th>ORIGIN</th>\n",
       "      <th>ORIGIN_CITY</th>\n",
       "      <th>DEST</th>\n",
       "      <th>DEST_CITY</th>\n",
       "      <th>...</th>\n",
       "      <th>DIVERTED</th>\n",
       "      <th>CRS_ELAPSED_TIME</th>\n",
       "      <th>ELAPSED_TIME</th>\n",
       "      <th>AIR_TIME</th>\n",
       "      <th>DISTANCE</th>\n",
       "      <th>DELAY_DUE_CARRIER</th>\n",
       "      <th>DELAY_DUE_WEATHER</th>\n",
       "      <th>DELAY_DUE_NAS</th>\n",
       "      <th>DELAY_DUE_SECURITY</th>\n",
       "      <th>DELAY_DUE_LATE_AIRCRAFT</th>\n",
       "    </tr>\n",
       "  </thead>\n",
       "  <tbody>\n",
       "    <tr>\n",
       "      <th>0</th>\n",
       "      <td>2019-01-09</td>\n",
       "      <td>United Air Lines Inc.</td>\n",
       "      <td>United Air Lines Inc.: UA</td>\n",
       "      <td>UA</td>\n",
       "      <td>19977</td>\n",
       "      <td>1562</td>\n",
       "      <td>FLL</td>\n",
       "      <td>Fort Lauderdale, FL</td>\n",
       "      <td>EWR</td>\n",
       "      <td>Newark, NJ</td>\n",
       "      <td>...</td>\n",
       "      <td>0.0</td>\n",
       "      <td>186.0</td>\n",
       "      <td>176.0</td>\n",
       "      <td>153.0</td>\n",
       "      <td>1065.0</td>\n",
       "      <td>NaN</td>\n",
       "      <td>NaN</td>\n",
       "      <td>NaN</td>\n",
       "      <td>NaN</td>\n",
       "      <td>NaN</td>\n",
       "    </tr>\n",
       "    <tr>\n",
       "      <th>1</th>\n",
       "      <td>2022-11-19</td>\n",
       "      <td>Delta Air Lines Inc.</td>\n",
       "      <td>Delta Air Lines Inc.: DL</td>\n",
       "      <td>DL</td>\n",
       "      <td>19790</td>\n",
       "      <td>1149</td>\n",
       "      <td>MSP</td>\n",
       "      <td>Minneapolis, MN</td>\n",
       "      <td>SEA</td>\n",
       "      <td>Seattle, WA</td>\n",
       "      <td>...</td>\n",
       "      <td>0.0</td>\n",
       "      <td>235.0</td>\n",
       "      <td>236.0</td>\n",
       "      <td>189.0</td>\n",
       "      <td>1399.0</td>\n",
       "      <td>NaN</td>\n",
       "      <td>NaN</td>\n",
       "      <td>NaN</td>\n",
       "      <td>NaN</td>\n",
       "      <td>NaN</td>\n",
       "    </tr>\n",
       "    <tr>\n",
       "      <th>2</th>\n",
       "      <td>2022-07-22</td>\n",
       "      <td>United Air Lines Inc.</td>\n",
       "      <td>United Air Lines Inc.: UA</td>\n",
       "      <td>UA</td>\n",
       "      <td>19977</td>\n",
       "      <td>459</td>\n",
       "      <td>DEN</td>\n",
       "      <td>Denver, CO</td>\n",
       "      <td>MSP</td>\n",
       "      <td>Minneapolis, MN</td>\n",
       "      <td>...</td>\n",
       "      <td>0.0</td>\n",
       "      <td>118.0</td>\n",
       "      <td>112.0</td>\n",
       "      <td>87.0</td>\n",
       "      <td>680.0</td>\n",
       "      <td>NaN</td>\n",
       "      <td>NaN</td>\n",
       "      <td>NaN</td>\n",
       "      <td>NaN</td>\n",
       "      <td>NaN</td>\n",
       "    </tr>\n",
       "    <tr>\n",
       "      <th>3</th>\n",
       "      <td>2023-03-06</td>\n",
       "      <td>Delta Air Lines Inc.</td>\n",
       "      <td>Delta Air Lines Inc.: DL</td>\n",
       "      <td>DL</td>\n",
       "      <td>19790</td>\n",
       "      <td>2295</td>\n",
       "      <td>MSP</td>\n",
       "      <td>Minneapolis, MN</td>\n",
       "      <td>SFO</td>\n",
       "      <td>San Francisco, CA</td>\n",
       "      <td>...</td>\n",
       "      <td>0.0</td>\n",
       "      <td>260.0</td>\n",
       "      <td>285.0</td>\n",
       "      <td>249.0</td>\n",
       "      <td>1589.0</td>\n",
       "      <td>0.0</td>\n",
       "      <td>0.0</td>\n",
       "      <td>24.0</td>\n",
       "      <td>0.0</td>\n",
       "      <td>0.0</td>\n",
       "    </tr>\n",
       "    <tr>\n",
       "      <th>4</th>\n",
       "      <td>2020-02-23</td>\n",
       "      <td>Spirit Air Lines</td>\n",
       "      <td>Spirit Air Lines: NK</td>\n",
       "      <td>NK</td>\n",
       "      <td>20416</td>\n",
       "      <td>407</td>\n",
       "      <td>MCO</td>\n",
       "      <td>Orlando, FL</td>\n",
       "      <td>DFW</td>\n",
       "      <td>Dallas/Fort Worth, TX</td>\n",
       "      <td>...</td>\n",
       "      <td>0.0</td>\n",
       "      <td>181.0</td>\n",
       "      <td>182.0</td>\n",
       "      <td>153.0</td>\n",
       "      <td>985.0</td>\n",
       "      <td>NaN</td>\n",
       "      <td>NaN</td>\n",
       "      <td>NaN</td>\n",
       "      <td>NaN</td>\n",
       "      <td>NaN</td>\n",
       "    </tr>\n",
       "  </tbody>\n",
       "</table>\n",
       "<p>5 rows × 32 columns</p>\n",
       "</div>"
      ],
      "text/plain": [
       "      FL_DATE                AIRLINE                AIRLINE_DOT AIRLINE_CODE  \\\n",
       "0  2019-01-09  United Air Lines Inc.  United Air Lines Inc.: UA           UA   \n",
       "1  2022-11-19   Delta Air Lines Inc.   Delta Air Lines Inc.: DL           DL   \n",
       "2  2022-07-22  United Air Lines Inc.  United Air Lines Inc.: UA           UA   \n",
       "3  2023-03-06   Delta Air Lines Inc.   Delta Air Lines Inc.: DL           DL   \n",
       "4  2020-02-23       Spirit Air Lines       Spirit Air Lines: NK           NK   \n",
       "\n",
       "   DOT_CODE  FL_NUMBER ORIGIN          ORIGIN_CITY DEST  \\\n",
       "0     19977       1562    FLL  Fort Lauderdale, FL  EWR   \n",
       "1     19790       1149    MSP      Minneapolis, MN  SEA   \n",
       "2     19977        459    DEN           Denver, CO  MSP   \n",
       "3     19790       2295    MSP      Minneapolis, MN  SFO   \n",
       "4     20416        407    MCO          Orlando, FL  DFW   \n",
       "\n",
       "               DEST_CITY  ...  DIVERTED  CRS_ELAPSED_TIME  ELAPSED_TIME  \\\n",
       "0             Newark, NJ  ...       0.0             186.0         176.0   \n",
       "1            Seattle, WA  ...       0.0             235.0         236.0   \n",
       "2        Minneapolis, MN  ...       0.0             118.0         112.0   \n",
       "3      San Francisco, CA  ...       0.0             260.0         285.0   \n",
       "4  Dallas/Fort Worth, TX  ...       0.0             181.0         182.0   \n",
       "\n",
       "   AIR_TIME  DISTANCE  DELAY_DUE_CARRIER  DELAY_DUE_WEATHER  DELAY_DUE_NAS  \\\n",
       "0     153.0    1065.0                NaN                NaN            NaN   \n",
       "1     189.0    1399.0                NaN                NaN            NaN   \n",
       "2      87.0     680.0                NaN                NaN            NaN   \n",
       "3     249.0    1589.0                0.0                0.0           24.0   \n",
       "4     153.0     985.0                NaN                NaN            NaN   \n",
       "\n",
       "   DELAY_DUE_SECURITY  DELAY_DUE_LATE_AIRCRAFT  \n",
       "0                 NaN                      NaN  \n",
       "1                 NaN                      NaN  \n",
       "2                 NaN                      NaN  \n",
       "3                 0.0                      0.0  \n",
       "4                 NaN                      NaN  \n",
       "\n",
       "[5 rows x 32 columns]"
      ]
     },
     "execution_count": 5,
     "metadata": {},
     "output_type": "execute_result"
    }
   ],
   "source": [
    "# df.show(5, truncate=False)\n",
    "df.limit(5).toPandas()"
   ]
  },
  {
   "cell_type": "markdown",
   "id": "80a16b65-e72a-477d-bec1-fcd67d7fa8da",
   "metadata": {},
   "source": [
    "### Data Cleaning"
   ]
  },
  {
   "cell_type": "code",
   "execution_count": 6,
   "id": "6f3009ee-97ee-472e-9168-d15e6c511390",
   "metadata": {},
   "outputs": [],
   "source": [
    "# Drop Irrelevant Fields\n",
    "columns_to_drop = [\n",
    "    'AIRLINE_DOT', 'DOT_CODE', 'FL_NUMBER', 'ORIGIN_CITY', 'DEST_CITY',\n",
    "    'DEP_TIME', 'DEP_DELAY',\n",
    "    'TAXI_OUT', 'WHEELS_OFF', 'WHEELS_ON', 'TAXI_IN',\n",
    "    'ARR_TIME',\n",
    "    'CANCELLED', 'CANCELLATION_CODE', 'DIVERTED',\n",
    "    'ELAPSED_TIME', 'AIR_TIME',\n",
    "    'DELAY_DUE_CARRIER', 'DELAY_DUE_WEATHER', 'DELAY_DUE_NAS',\n",
    "    'DELAY_DUE_SECURITY', 'DELAY_DUE_LATE_AIRCRAFT'\n",
    "]\n",
    "df_cleaned = df.drop(*columns_to_drop)\n",
    "\n",
    "# Drop Nulls\n",
    "df_cleaned = df_cleaned.dropna(subset=[\n",
    "    \"ARR_DELAY\", \"CRS_DEP_TIME\", \"CRS_ARR_TIME\", \"CRS_ELAPSED_TIME\",\n",
    "    \"DISTANCE\", \"ORIGIN\", \"DEST\", \"AIRLINE\", \"AIRLINE_CODE\"\n",
    "])\n",
    "\n",
    "# Outlier Handling\n",
    "df_cleaned = df_cleaned.filter((F.col(\"CRS_ELAPSED_TIME\") > 0) & (F.col(\"CRS_ELAPSED_TIME\") < 1000))\n",
    "df_cleaned = df_cleaned.filter((F.col(\"DISTANCE\") > 0) & (F.col(\"DISTANCE\") < 3000))"
   ]
  },
  {
   "cell_type": "markdown",
   "id": "554294ee-1b25-4755-90c0-746adb5b33fe",
   "metadata": {},
   "source": [
    "### Data Checking"
   ]
  },
  {
   "cell_type": "code",
   "execution_count": 7,
   "id": "7ee81dee-160d-4514-8156-62358c26f29b",
   "metadata": {},
   "outputs": [
    {
     "name": "stdout",
     "output_type": "stream",
     "text": [
      "root\n",
      " |-- FL_DATE: date (nullable = true)\n",
      " |-- AIRLINE: string (nullable = true)\n",
      " |-- AIRLINE_DOT: string (nullable = true)\n",
      " |-- AIRLINE_CODE: string (nullable = true)\n",
      " |-- DOT_CODE: integer (nullable = true)\n",
      " |-- FL_NUMBER: integer (nullable = true)\n",
      " |-- ORIGIN: string (nullable = true)\n",
      " |-- ORIGIN_CITY: string (nullable = true)\n",
      " |-- DEST: string (nullable = true)\n",
      " |-- DEST_CITY: string (nullable = true)\n",
      " |-- CRS_DEP_TIME: integer (nullable = true)\n",
      " |-- DEP_TIME: double (nullable = true)\n",
      " |-- DEP_DELAY: double (nullable = true)\n",
      " |-- TAXI_OUT: double (nullable = true)\n",
      " |-- WHEELS_OFF: double (nullable = true)\n",
      " |-- WHEELS_ON: double (nullable = true)\n",
      " |-- TAXI_IN: double (nullable = true)\n",
      " |-- CRS_ARR_TIME: integer (nullable = true)\n",
      " |-- ARR_TIME: double (nullable = true)\n",
      " |-- ARR_DELAY: double (nullable = true)\n",
      " |-- CANCELLED: double (nullable = true)\n",
      " |-- CANCELLATION_CODE: string (nullable = true)\n",
      " |-- DIVERTED: double (nullable = true)\n",
      " |-- CRS_ELAPSED_TIME: double (nullable = true)\n",
      " |-- ELAPSED_TIME: double (nullable = true)\n",
      " |-- AIR_TIME: double (nullable = true)\n",
      " |-- DISTANCE: double (nullable = true)\n",
      " |-- DELAY_DUE_CARRIER: double (nullable = true)\n",
      " |-- DELAY_DUE_WEATHER: double (nullable = true)\n",
      " |-- DELAY_DUE_NAS: double (nullable = true)\n",
      " |-- DELAY_DUE_SECURITY: double (nullable = true)\n",
      " |-- DELAY_DUE_LATE_AIRCRAFT: double (nullable = true)\n",
      "\n"
     ]
    }
   ],
   "source": [
    "# show df schema\n",
    "df.printSchema()"
   ]
  },
  {
   "cell_type": "code",
   "execution_count": 8,
   "id": "963ea701-72bf-4935-be54-b4a0d6f0ade1",
   "metadata": {},
   "outputs": [
    {
     "data": {
      "text/html": [
       "<div>\n",
       "<style scoped>\n",
       "    .dataframe tbody tr th:only-of-type {\n",
       "        vertical-align: middle;\n",
       "    }\n",
       "\n",
       "    .dataframe tbody tr th {\n",
       "        vertical-align: top;\n",
       "    }\n",
       "\n",
       "    .dataframe thead th {\n",
       "        text-align: right;\n",
       "    }\n",
       "</style>\n",
       "<table border=\"1\" class=\"dataframe\">\n",
       "  <thead>\n",
       "    <tr style=\"text-align: right;\">\n",
       "      <th></th>\n",
       "      <th>FL_DATE</th>\n",
       "      <th>AIRLINE</th>\n",
       "      <th>AIRLINE_DOT</th>\n",
       "      <th>AIRLINE_CODE</th>\n",
       "      <th>DOT_CODE</th>\n",
       "      <th>FL_NUMBER</th>\n",
       "      <th>ORIGIN</th>\n",
       "      <th>ORIGIN_CITY</th>\n",
       "      <th>DEST</th>\n",
       "      <th>DEST_CITY</th>\n",
       "      <th>...</th>\n",
       "      <th>DIVERTED</th>\n",
       "      <th>CRS_ELAPSED_TIME</th>\n",
       "      <th>ELAPSED_TIME</th>\n",
       "      <th>AIR_TIME</th>\n",
       "      <th>DISTANCE</th>\n",
       "      <th>DELAY_DUE_CARRIER</th>\n",
       "      <th>DELAY_DUE_WEATHER</th>\n",
       "      <th>DELAY_DUE_NAS</th>\n",
       "      <th>DELAY_DUE_SECURITY</th>\n",
       "      <th>DELAY_DUE_LATE_AIRCRAFT</th>\n",
       "    </tr>\n",
       "  </thead>\n",
       "  <tbody>\n",
       "    <tr>\n",
       "      <th>0</th>\n",
       "      <td>2019-01-09</td>\n",
       "      <td>United Air Lines Inc.</td>\n",
       "      <td>United Air Lines Inc.: UA</td>\n",
       "      <td>UA</td>\n",
       "      <td>19977</td>\n",
       "      <td>1562</td>\n",
       "      <td>FLL</td>\n",
       "      <td>Fort Lauderdale, FL</td>\n",
       "      <td>EWR</td>\n",
       "      <td>Newark, NJ</td>\n",
       "      <td>...</td>\n",
       "      <td>0.0</td>\n",
       "      <td>186.0</td>\n",
       "      <td>176.0</td>\n",
       "      <td>153.0</td>\n",
       "      <td>1065.0</td>\n",
       "      <td>NaN</td>\n",
       "      <td>NaN</td>\n",
       "      <td>NaN</td>\n",
       "      <td>NaN</td>\n",
       "      <td>NaN</td>\n",
       "    </tr>\n",
       "    <tr>\n",
       "      <th>1</th>\n",
       "      <td>2022-11-19</td>\n",
       "      <td>Delta Air Lines Inc.</td>\n",
       "      <td>Delta Air Lines Inc.: DL</td>\n",
       "      <td>DL</td>\n",
       "      <td>19790</td>\n",
       "      <td>1149</td>\n",
       "      <td>MSP</td>\n",
       "      <td>Minneapolis, MN</td>\n",
       "      <td>SEA</td>\n",
       "      <td>Seattle, WA</td>\n",
       "      <td>...</td>\n",
       "      <td>0.0</td>\n",
       "      <td>235.0</td>\n",
       "      <td>236.0</td>\n",
       "      <td>189.0</td>\n",
       "      <td>1399.0</td>\n",
       "      <td>NaN</td>\n",
       "      <td>NaN</td>\n",
       "      <td>NaN</td>\n",
       "      <td>NaN</td>\n",
       "      <td>NaN</td>\n",
       "    </tr>\n",
       "    <tr>\n",
       "      <th>2</th>\n",
       "      <td>2022-07-22</td>\n",
       "      <td>United Air Lines Inc.</td>\n",
       "      <td>United Air Lines Inc.: UA</td>\n",
       "      <td>UA</td>\n",
       "      <td>19977</td>\n",
       "      <td>459</td>\n",
       "      <td>DEN</td>\n",
       "      <td>Denver, CO</td>\n",
       "      <td>MSP</td>\n",
       "      <td>Minneapolis, MN</td>\n",
       "      <td>...</td>\n",
       "      <td>0.0</td>\n",
       "      <td>118.0</td>\n",
       "      <td>112.0</td>\n",
       "      <td>87.0</td>\n",
       "      <td>680.0</td>\n",
       "      <td>NaN</td>\n",
       "      <td>NaN</td>\n",
       "      <td>NaN</td>\n",
       "      <td>NaN</td>\n",
       "      <td>NaN</td>\n",
       "    </tr>\n",
       "    <tr>\n",
       "      <th>3</th>\n",
       "      <td>2023-03-06</td>\n",
       "      <td>Delta Air Lines Inc.</td>\n",
       "      <td>Delta Air Lines Inc.: DL</td>\n",
       "      <td>DL</td>\n",
       "      <td>19790</td>\n",
       "      <td>2295</td>\n",
       "      <td>MSP</td>\n",
       "      <td>Minneapolis, MN</td>\n",
       "      <td>SFO</td>\n",
       "      <td>San Francisco, CA</td>\n",
       "      <td>...</td>\n",
       "      <td>0.0</td>\n",
       "      <td>260.0</td>\n",
       "      <td>285.0</td>\n",
       "      <td>249.0</td>\n",
       "      <td>1589.0</td>\n",
       "      <td>0.0</td>\n",
       "      <td>0.0</td>\n",
       "      <td>24.0</td>\n",
       "      <td>0.0</td>\n",
       "      <td>0.0</td>\n",
       "    </tr>\n",
       "    <tr>\n",
       "      <th>4</th>\n",
       "      <td>2020-02-23</td>\n",
       "      <td>Spirit Air Lines</td>\n",
       "      <td>Spirit Air Lines: NK</td>\n",
       "      <td>NK</td>\n",
       "      <td>20416</td>\n",
       "      <td>407</td>\n",
       "      <td>MCO</td>\n",
       "      <td>Orlando, FL</td>\n",
       "      <td>DFW</td>\n",
       "      <td>Dallas/Fort Worth, TX</td>\n",
       "      <td>...</td>\n",
       "      <td>0.0</td>\n",
       "      <td>181.0</td>\n",
       "      <td>182.0</td>\n",
       "      <td>153.0</td>\n",
       "      <td>985.0</td>\n",
       "      <td>NaN</td>\n",
       "      <td>NaN</td>\n",
       "      <td>NaN</td>\n",
       "      <td>NaN</td>\n",
       "      <td>NaN</td>\n",
       "    </tr>\n",
       "  </tbody>\n",
       "</table>\n",
       "<p>5 rows × 32 columns</p>\n",
       "</div>"
      ],
      "text/plain": [
       "      FL_DATE                AIRLINE                AIRLINE_DOT AIRLINE_CODE  \\\n",
       "0  2019-01-09  United Air Lines Inc.  United Air Lines Inc.: UA           UA   \n",
       "1  2022-11-19   Delta Air Lines Inc.   Delta Air Lines Inc.: DL           DL   \n",
       "2  2022-07-22  United Air Lines Inc.  United Air Lines Inc.: UA           UA   \n",
       "3  2023-03-06   Delta Air Lines Inc.   Delta Air Lines Inc.: DL           DL   \n",
       "4  2020-02-23       Spirit Air Lines       Spirit Air Lines: NK           NK   \n",
       "\n",
       "   DOT_CODE  FL_NUMBER ORIGIN          ORIGIN_CITY DEST  \\\n",
       "0     19977       1562    FLL  Fort Lauderdale, FL  EWR   \n",
       "1     19790       1149    MSP      Minneapolis, MN  SEA   \n",
       "2     19977        459    DEN           Denver, CO  MSP   \n",
       "3     19790       2295    MSP      Minneapolis, MN  SFO   \n",
       "4     20416        407    MCO          Orlando, FL  DFW   \n",
       "\n",
       "               DEST_CITY  ...  DIVERTED  CRS_ELAPSED_TIME  ELAPSED_TIME  \\\n",
       "0             Newark, NJ  ...       0.0             186.0         176.0   \n",
       "1            Seattle, WA  ...       0.0             235.0         236.0   \n",
       "2        Minneapolis, MN  ...       0.0             118.0         112.0   \n",
       "3      San Francisco, CA  ...       0.0             260.0         285.0   \n",
       "4  Dallas/Fort Worth, TX  ...       0.0             181.0         182.0   \n",
       "\n",
       "   AIR_TIME  DISTANCE  DELAY_DUE_CARRIER  DELAY_DUE_WEATHER  DELAY_DUE_NAS  \\\n",
       "0     153.0    1065.0                NaN                NaN            NaN   \n",
       "1     189.0    1399.0                NaN                NaN            NaN   \n",
       "2      87.0     680.0                NaN                NaN            NaN   \n",
       "3     249.0    1589.0                0.0                0.0           24.0   \n",
       "4     153.0     985.0                NaN                NaN            NaN   \n",
       "\n",
       "   DELAY_DUE_SECURITY  DELAY_DUE_LATE_AIRCRAFT  \n",
       "0                 NaN                      NaN  \n",
       "1                 NaN                      NaN  \n",
       "2                 NaN                      NaN  \n",
       "3                 0.0                      0.0  \n",
       "4                 NaN                      NaN  \n",
       "\n",
       "[5 rows x 32 columns]"
      ]
     },
     "execution_count": 8,
     "metadata": {},
     "output_type": "execute_result"
    }
   ],
   "source": [
    "# df.show(5, truncate=False)\n",
    "df.limit(5).toPandas()"
   ]
  },
  {
   "cell_type": "markdown",
   "id": "a8e5974a-de20-4944-927d-1883342cc33b",
   "metadata": {},
   "source": [
    "# 3. Feature Engineering"
   ]
  },
  {
   "cell_type": "code",
   "execution_count": 9,
   "id": "4246eccf-e837-499c-98b1-46390560e4e9",
   "metadata": {},
   "outputs": [],
   "source": [
    "delay_threshold = 60\n",
    "\n",
    "df_featured = df_cleaned.withColumn(\"SEVERE_DELAY\", F.when(F.col(\"ARR_DELAY\") >= delay_threshold, 1).otherwise(0))\n",
    "df_featured = df_featured.withColumn(\"DEP_HOUR\", (F.col(\"CRS_DEP_TIME\") / 100).cast(\"integer\"))     # dep hour\n",
    "df_featured = df_featured.withColumn(\"DEP_MINUTE\", (F.col(\"CRS_DEP_TIME\") % 100).cast(\"integer\"))   # dep minute\n",
    "df_featured = df_featured.withColumn(\"ARR_HOUR\", (F.col(\"CRS_ARR_TIME\") / 100).cast(\"integer\"))     # arrival hour\n",
    "df_featured = df_featured.withColumn(\"ARR_MINUTE\", (F.col(\"CRS_ARR_TIME\") % 100).cast(\"integer\"))   # arrival minute\n",
    "df_featured = df_featured.withColumn(\"DEP_DAY_OF_WEEK\", F.dayofweek(F.col(\"FL_DATE\")))\n",
    "df_featured = df_featured.withColumn(\"DEP_MONTH\", F.month(F.col(\"FL_DATE\")))\n",
    "df_featured = df_featured.withColumn(\"DEP_DAY_OF_MONTH\", F.dayofmonth(F.col(\"FL_DATE\")))\n",
    "df_featured = df_featured.withColumn(\"DEP_WEEK_OF_YEAR\", F.weekofyear(F.col(\"FL_DATE\")))\n",
    "df_featured = df_featured.withColumn(\"IS_WEEKEND\", F.when(F.col(\"DEP_DAY_OF_WEEK\").isin([1, 7]), 1).otherwise(0))\n",
    "df_featured = df_featured.withColumn(\"DISTANCE_PER_MINUTE\", F.col(\"DISTANCE\") / (F.col(\"CRS_ELAPSED_TIME\") + 1e-6))\n",
    "\n",
    "featureCols = [\n",
    "    \"AIRLINE_CODE\", \"ORIGIN\", \"DEST\",\n",
    "    \"CRS_ELAPSED_TIME\", \"DISTANCE\",\n",
    "    \"DEP_HOUR\", \"DEP_MINUTE\", \"ARR_HOUR\", \"ARR_MINUTE\",\n",
    "    \"DEP_DAY_OF_WEEK\", \"DEP_MONTH\", \"DEP_DAY_OF_MONTH\", \"DEP_WEEK_OF_YEAR\",\n",
    "    \"IS_WEEKEND\", \"DISTANCE_PER_MINUTE\"\n",
    "]\n",
    "\n",
    "labelCol = \"SEVERE_DELAY\"\n",
    "\n",
    "final_df = df_featured.select(featureCols + [labelCol])"
   ]
  },
  {
   "cell_type": "code",
   "execution_count": 10,
   "id": "c6ed198b-1e00-4b67-9cac-5d98215a5832",
   "metadata": {},
   "outputs": [
    {
     "name": "stdout",
     "output_type": "stream",
     "text": [
      "root\n",
      " |-- AIRLINE_CODE: string (nullable = true)\n",
      " |-- ORIGIN: string (nullable = true)\n",
      " |-- DEST: string (nullable = true)\n",
      " |-- CRS_ELAPSED_TIME: double (nullable = true)\n",
      " |-- DISTANCE: double (nullable = true)\n",
      " |-- DEP_HOUR: integer (nullable = true)\n",
      " |-- DEP_MINUTE: integer (nullable = true)\n",
      " |-- ARR_HOUR: integer (nullable = true)\n",
      " |-- ARR_MINUTE: integer (nullable = true)\n",
      " |-- DEP_DAY_OF_WEEK: integer (nullable = true)\n",
      " |-- DEP_MONTH: integer (nullable = true)\n",
      " |-- DEP_DAY_OF_MONTH: integer (nullable = true)\n",
      " |-- DEP_WEEK_OF_YEAR: integer (nullable = true)\n",
      " |-- IS_WEEKEND: integer (nullable = false)\n",
      " |-- DISTANCE_PER_MINUTE: double (nullable = true)\n",
      " |-- SEVERE_DELAY: integer (nullable = false)\n",
      "\n"
     ]
    }
   ],
   "source": [
    "final_df.printSchema()"
   ]
  },
  {
   "cell_type": "code",
   "execution_count": 11,
   "id": "04e89d1b-497d-43a3-9797-8510a02286bf",
   "metadata": {},
   "outputs": [
    {
     "data": {
      "text/html": [
       "<div>\n",
       "<style scoped>\n",
       "    .dataframe tbody tr th:only-of-type {\n",
       "        vertical-align: middle;\n",
       "    }\n",
       "\n",
       "    .dataframe tbody tr th {\n",
       "        vertical-align: top;\n",
       "    }\n",
       "\n",
       "    .dataframe thead th {\n",
       "        text-align: right;\n",
       "    }\n",
       "</style>\n",
       "<table border=\"1\" class=\"dataframe\">\n",
       "  <thead>\n",
       "    <tr style=\"text-align: right;\">\n",
       "      <th></th>\n",
       "      <th>AIRLINE_CODE</th>\n",
       "      <th>ORIGIN</th>\n",
       "      <th>DEST</th>\n",
       "      <th>CRS_ELAPSED_TIME</th>\n",
       "      <th>DISTANCE</th>\n",
       "      <th>DEP_HOUR</th>\n",
       "      <th>DEP_MINUTE</th>\n",
       "      <th>ARR_HOUR</th>\n",
       "      <th>ARR_MINUTE</th>\n",
       "      <th>DEP_DAY_OF_WEEK</th>\n",
       "      <th>DEP_MONTH</th>\n",
       "      <th>DEP_DAY_OF_MONTH</th>\n",
       "      <th>DEP_WEEK_OF_YEAR</th>\n",
       "      <th>IS_WEEKEND</th>\n",
       "      <th>DISTANCE_PER_MINUTE</th>\n",
       "      <th>SEVERE_DELAY</th>\n",
       "    </tr>\n",
       "  </thead>\n",
       "  <tbody>\n",
       "    <tr>\n",
       "      <th>0</th>\n",
       "      <td>UA</td>\n",
       "      <td>FLL</td>\n",
       "      <td>EWR</td>\n",
       "      <td>186.0</td>\n",
       "      <td>1065.0</td>\n",
       "      <td>11</td>\n",
       "      <td>55</td>\n",
       "      <td>15</td>\n",
       "      <td>1</td>\n",
       "      <td>4</td>\n",
       "      <td>1</td>\n",
       "      <td>9</td>\n",
       "      <td>2</td>\n",
       "      <td>0</td>\n",
       "      <td>5.725806</td>\n",
       "      <td>0</td>\n",
       "    </tr>\n",
       "    <tr>\n",
       "      <th>1</th>\n",
       "      <td>DL</td>\n",
       "      <td>MSP</td>\n",
       "      <td>SEA</td>\n",
       "      <td>235.0</td>\n",
       "      <td>1399.0</td>\n",
       "      <td>21</td>\n",
       "      <td>20</td>\n",
       "      <td>23</td>\n",
       "      <td>15</td>\n",
       "      <td>7</td>\n",
       "      <td>11</td>\n",
       "      <td>19</td>\n",
       "      <td>46</td>\n",
       "      <td>1</td>\n",
       "      <td>5.953191</td>\n",
       "      <td>0</td>\n",
       "    </tr>\n",
       "    <tr>\n",
       "      <th>2</th>\n",
       "      <td>UA</td>\n",
       "      <td>DEN</td>\n",
       "      <td>MSP</td>\n",
       "      <td>118.0</td>\n",
       "      <td>680.0</td>\n",
       "      <td>9</td>\n",
       "      <td>54</td>\n",
       "      <td>12</td>\n",
       "      <td>52</td>\n",
       "      <td>6</td>\n",
       "      <td>7</td>\n",
       "      <td>22</td>\n",
       "      <td>29</td>\n",
       "      <td>0</td>\n",
       "      <td>5.762712</td>\n",
       "      <td>0</td>\n",
       "    </tr>\n",
       "    <tr>\n",
       "      <th>3</th>\n",
       "      <td>DL</td>\n",
       "      <td>MSP</td>\n",
       "      <td>SFO</td>\n",
       "      <td>260.0</td>\n",
       "      <td>1589.0</td>\n",
       "      <td>16</td>\n",
       "      <td>9</td>\n",
       "      <td>18</td>\n",
       "      <td>29</td>\n",
       "      <td>2</td>\n",
       "      <td>3</td>\n",
       "      <td>6</td>\n",
       "      <td>10</td>\n",
       "      <td>0</td>\n",
       "      <td>6.111538</td>\n",
       "      <td>0</td>\n",
       "    </tr>\n",
       "    <tr>\n",
       "      <th>4</th>\n",
       "      <td>NK</td>\n",
       "      <td>MCO</td>\n",
       "      <td>DFW</td>\n",
       "      <td>181.0</td>\n",
       "      <td>985.0</td>\n",
       "      <td>18</td>\n",
       "      <td>40</td>\n",
       "      <td>20</td>\n",
       "      <td>41</td>\n",
       "      <td>1</td>\n",
       "      <td>2</td>\n",
       "      <td>23</td>\n",
       "      <td>8</td>\n",
       "      <td>1</td>\n",
       "      <td>5.441989</td>\n",
       "      <td>0</td>\n",
       "    </tr>\n",
       "  </tbody>\n",
       "</table>\n",
       "</div>"
      ],
      "text/plain": [
       "  AIRLINE_CODE ORIGIN DEST  CRS_ELAPSED_TIME  DISTANCE  DEP_HOUR  DEP_MINUTE  \\\n",
       "0           UA    FLL  EWR             186.0    1065.0        11          55   \n",
       "1           DL    MSP  SEA             235.0    1399.0        21          20   \n",
       "2           UA    DEN  MSP             118.0     680.0         9          54   \n",
       "3           DL    MSP  SFO             260.0    1589.0        16           9   \n",
       "4           NK    MCO  DFW             181.0     985.0        18          40   \n",
       "\n",
       "   ARR_HOUR  ARR_MINUTE  DEP_DAY_OF_WEEK  DEP_MONTH  DEP_DAY_OF_MONTH  \\\n",
       "0        15           1                4          1                 9   \n",
       "1        23          15                7         11                19   \n",
       "2        12          52                6          7                22   \n",
       "3        18          29                2          3                 6   \n",
       "4        20          41                1          2                23   \n",
       "\n",
       "   DEP_WEEK_OF_YEAR  IS_WEEKEND  DISTANCE_PER_MINUTE  SEVERE_DELAY  \n",
       "0                 2           0             5.725806             0  \n",
       "1                46           1             5.953191             0  \n",
       "2                29           0             5.762712             0  \n",
       "3                10           0             6.111538             0  \n",
       "4                 8           1             5.441989             0  "
      ]
     },
     "execution_count": 11,
     "metadata": {},
     "output_type": "execute_result"
    }
   ],
   "source": [
    "# final_df.show(5, truncate=False)\n",
    "final_df.limit(5).toPandas()"
   ]
  },
  {
   "cell_type": "markdown",
   "id": "099e032b-c604-4cd3-8d84-11ac64921e2f",
   "metadata": {},
   "source": [
    "# 4. Creating Pipeline"
   ]
  },
  {
   "cell_type": "code",
   "execution_count": 12,
   "id": "591dde06-efce-498c-baa2-82cbe58d4432",
   "metadata": {},
   "outputs": [],
   "source": [
    "categorical_cols = [\"AIRLINE_CODE\", \"ORIGIN\", \"DEST\"]\n",
    "numerical_cols = [col for col in featureCols if col not in categorical_cols]\n",
    "\n",
    "indexers = [\n",
    "    StringIndexer(inputCol = col, outputCol = col+'Index', handleInvalid = \"keep\")\n",
    "    for col in categorical_cols\n",
    "]\n",
    "\n",
    "encoders = [\n",
    "    OneHotEncoder(inputCol= col+'Index', outputCol = col+'OHE')\n",
    "    for col in categorical_cols\n",
    "]\n",
    "\n",
    "num_vector_assembler = VectorAssembler(\n",
    "    inputCols=numerical_cols,\n",
    "    outputCol=\"NumFeatures\"\n",
    ")\n",
    "\n",
    "scaler = StandardScaler(inputCol=\"NumFeatures\", outputCol=\"ScaledNumFeatures\", withStd=True, withMean=True)\n",
    "\n",
    "final_vector_assembler = VectorAssembler(\n",
    "    inputCols=[col+'OHE' for col in categorical_cols] + [\"ScaledNumFeatures\"], \n",
    "    outputCol=\"features\"\n",
    ")"
   ]
  },
  {
   "cell_type": "code",
   "execution_count": 13,
   "id": "2de9dbfb-c15e-42a1-8290-ce581147027d",
   "metadata": {},
   "outputs": [
    {
     "name": "stderr",
     "output_type": "stream",
     "text": [
      "25/05/07 05:16:19 WARN GarbageCollectionMetrics: To enable non-built-in garbage collector(s) List(G1 Concurrent GC), users should configure it(them) to spark.eventLog.gcMetrics.youngGenerationGarbageCollectors or spark.eventLog.gcMetrics.oldGenerationGarbageCollectors\n",
      "                                                                                "
     ]
    }
   ],
   "source": [
    "# Build Preprocessing Pipeline\n",
    "pipeline = Pipeline(stages = indexers + encoders + [num_vector_assembler, scaler, final_vector_assembler])\n",
    "pipeline_model = pipeline.fit(final_df)\n",
    "processed_df = pipeline_model.transform(final_df)"
   ]
  },
  {
   "cell_type": "markdown",
   "id": "6bb6f522-da2d-4dca-95b6-2d7226e466c5",
   "metadata": {},
   "source": [
    "### Show Results"
   ]
  },
  {
   "cell_type": "code",
   "execution_count": 14,
   "id": "faacf046-338d-4225-9ebc-4f9af3dffcdf",
   "metadata": {},
   "outputs": [
    {
     "name": "stdout",
     "output_type": "stream",
     "text": [
      "root\n",
      " |-- AIRLINE_CODE: string (nullable = true)\n",
      " |-- ORIGIN: string (nullable = true)\n",
      " |-- DEST: string (nullable = true)\n",
      " |-- CRS_ELAPSED_TIME: double (nullable = true)\n",
      " |-- DISTANCE: double (nullable = true)\n",
      " |-- DEP_HOUR: integer (nullable = true)\n",
      " |-- DEP_MINUTE: integer (nullable = true)\n",
      " |-- ARR_HOUR: integer (nullable = true)\n",
      " |-- ARR_MINUTE: integer (nullable = true)\n",
      " |-- DEP_DAY_OF_WEEK: integer (nullable = true)\n",
      " |-- DEP_MONTH: integer (nullable = true)\n",
      " |-- DEP_DAY_OF_MONTH: integer (nullable = true)\n",
      " |-- DEP_WEEK_OF_YEAR: integer (nullable = true)\n",
      " |-- IS_WEEKEND: integer (nullable = false)\n",
      " |-- DISTANCE_PER_MINUTE: double (nullable = true)\n",
      " |-- SEVERE_DELAY: integer (nullable = false)\n",
      " |-- AIRLINE_CODEIndex: double (nullable = false)\n",
      " |-- ORIGINIndex: double (nullable = false)\n",
      " |-- DESTIndex: double (nullable = false)\n",
      " |-- AIRLINE_CODEOHE: vector (nullable = true)\n",
      " |-- ORIGINOHE: vector (nullable = true)\n",
      " |-- DESTOHE: vector (nullable = true)\n",
      " |-- NumFeatures: vector (nullable = true)\n",
      " |-- ScaledNumFeatures: vector (nullable = true)\n",
      " |-- features: vector (nullable = true)\n",
      "\n"
     ]
    }
   ],
   "source": [
    "processed_df.printSchema()"
   ]
  },
  {
   "cell_type": "code",
   "execution_count": 15,
   "id": "534dce8e-6272-4efb-bfd0-0a54715a96ea",
   "metadata": {},
   "outputs": [
    {
     "data": {
      "text/html": [
       "<div>\n",
       "<style scoped>\n",
       "    .dataframe tbody tr th:only-of-type {\n",
       "        vertical-align: middle;\n",
       "    }\n",
       "\n",
       "    .dataframe tbody tr th {\n",
       "        vertical-align: top;\n",
       "    }\n",
       "\n",
       "    .dataframe thead th {\n",
       "        text-align: right;\n",
       "    }\n",
       "</style>\n",
       "<table border=\"1\" class=\"dataframe\">\n",
       "  <thead>\n",
       "    <tr style=\"text-align: right;\">\n",
       "      <th></th>\n",
       "      <th>features</th>\n",
       "      <th>SEVERE_DELAY</th>\n",
       "    </tr>\n",
       "  </thead>\n",
       "  <tbody>\n",
       "    <tr>\n",
       "      <th>0</th>\n",
       "      <td>(0.0, 0.0, 0.0, 0.0, 1.0, 0.0, 0.0, 0.0, 0.0, ...</td>\n",
       "      <td>0</td>\n",
       "    </tr>\n",
       "    <tr>\n",
       "      <th>1</th>\n",
       "      <td>(0.0, 1.0, 0.0, 0.0, 0.0, 0.0, 0.0, 0.0, 0.0, ...</td>\n",
       "      <td>0</td>\n",
       "    </tr>\n",
       "    <tr>\n",
       "      <th>2</th>\n",
       "      <td>(0.0, 0.0, 0.0, 0.0, 1.0, 0.0, 0.0, 0.0, 0.0, ...</td>\n",
       "      <td>0</td>\n",
       "    </tr>\n",
       "    <tr>\n",
       "      <th>3</th>\n",
       "      <td>(0.0, 1.0, 0.0, 0.0, 0.0, 0.0, 0.0, 0.0, 0.0, ...</td>\n",
       "      <td>0</td>\n",
       "    </tr>\n",
       "    <tr>\n",
       "      <th>4</th>\n",
       "      <td>(0.0, 0.0, 0.0, 0.0, 0.0, 0.0, 0.0, 0.0, 0.0, ...</td>\n",
       "      <td>0</td>\n",
       "    </tr>\n",
       "  </tbody>\n",
       "</table>\n",
       "</div>"
      ],
      "text/plain": [
       "                                            features  SEVERE_DELAY\n",
       "0  (0.0, 0.0, 0.0, 0.0, 1.0, 0.0, 0.0, 0.0, 0.0, ...             0\n",
       "1  (0.0, 1.0, 0.0, 0.0, 0.0, 0.0, 0.0, 0.0, 0.0, ...             0\n",
       "2  (0.0, 0.0, 0.0, 0.0, 1.0, 0.0, 0.0, 0.0, 0.0, ...             0\n",
       "3  (0.0, 1.0, 0.0, 0.0, 0.0, 0.0, 0.0, 0.0, 0.0, ...             0\n",
       "4  (0.0, 0.0, 0.0, 0.0, 0.0, 0.0, 0.0, 0.0, 0.0, ...             0"
      ]
     },
     "execution_count": 15,
     "metadata": {},
     "output_type": "execute_result"
    }
   ],
   "source": [
    "#processed_df.select(\"features\", labelCol).show(5, truncate=False)\n",
    "processed_df.select(\"features\", labelCol).limit(5).toPandas()"
   ]
  },
  {
   "cell_type": "markdown",
   "id": "5d1e49c6-2f11-4b05-8bdc-74678ef5be83",
   "metadata": {},
   "source": [
    "# 5. Training Models"
   ]
  },
  {
   "cell_type": "code",
   "execution_count": 16,
   "id": "4b21234f-49e6-40d8-bb90-9aff41f55fe3",
   "metadata": {},
   "outputs": [
    {
     "name": "stderr",
     "output_type": "stream",
     "text": [
      "                                                                                "
     ]
    }
   ],
   "source": [
    "# Train/Test Split\n",
    "model_data = processed_df.select(\"features\", labelCol).withColumnRenamed(labelCol, \"label\")\n",
    "train_df, test_df = model_data.randomSplit([0.8, 0.2], seed=101)\n",
    "train_df_sampled = train_df.sample(withReplacement=False, fraction=0.3, seed=101)\n",
    "\n",
    "label_indexer = StringIndexer(inputCol=\"label\", outputCol=\"indexedLabel\")\n",
    "label_indexer_model = label_indexer.fit(train_df)\n",
    "\n",
    "train_df = label_indexer_model.transform(train_df)\n",
    "test_df = label_indexer_model.transform(test_df)"
   ]
  },
  {
   "cell_type": "markdown",
   "id": "88a101a4-affa-430c-a2bd-36e5e4f4902a",
   "metadata": {},
   "source": [
    "## Handling Class Imbalance"
   ]
  },
  {
   "cell_type": "markdown",
   "id": "a00b2377-635c-44b0-b010-cbf794ce3d59",
   "metadata": {},
   "source": [
    "### Using Class Weights"
   ]
  },
  {
   "cell_type": "code",
   "execution_count": 17,
   "id": "caa42cda-60b0-4167-a4e2-2db23b4d07f9",
   "metadata": {},
   "outputs": [],
   "source": [
    "# Handle Class Imbalance\n",
    "train_df_weighted = train_df.withColumn(\n",
    "    \"classWeightCol\",\n",
    "    F.when(F.col(\"indexedLabel\") == 0.0, 0.2).otherwise(1.0)\n",
    ")"
   ]
  },
  {
   "cell_type": "markdown",
   "id": "9c2d6be6-2065-4c46-9b37-4613951e571a",
   "metadata": {},
   "source": [
    "### Using Resampling"
   ]
  },
  {
   "cell_type": "code",
   "execution_count": 18,
   "id": "f592f916-1d21-48cf-a6f9-e7836ccc5a78",
   "metadata": {},
   "outputs": [],
   "source": [
    "# # Count each class\n",
    "# class_counts = train_df.groupBy(\"indexedLabel\").count().toPandas()\n",
    "\n",
    "# print(\"Class distribution before resampling:\")\n",
    "# print(class_counts)\n",
    "\n",
    "# majority_count = class_counts[\"count\"].max()\n",
    "# minority_label = class_counts.loc[class_counts[\"count\"] != majority_count, \"indexedLabel\"].values[0]\n",
    "\n",
    "# # Filter minority and majority\n",
    "# minority_df = train_df.filter(F.col(\"indexedLabel\") == minority_label)\n",
    "# majority_df = train_df.filter(F.col(\"indexedLabel\") != minority_label)\n",
    "\n",
    "# # Oversample minority\n",
    "# ratio = majority_count / minority_df.count()\n",
    "# oversampled_minority = minority_df.sample(withReplacement=True, fraction=ratio)\n",
    "\n",
    "# # Combine back\n",
    "# balanced_train_df = majority_df.unionAll(oversampled_minority)\n"
   ]
  },
  {
   "cell_type": "markdown",
   "id": "570a516b",
   "metadata": {},
   "source": [
    "### Random Forest Model"
   ]
  },
  {
   "cell_type": "code",
   "execution_count": 19,
   "id": "4b6d4cd5-79d1-4e39-a4f6-6cfbef9e3ee9",
   "metadata": {},
   "outputs": [
    {
     "name": "stderr",
     "output_type": "stream",
     "text": [
      "                                                                                "
     ]
    }
   ],
   "source": [
    "rf = RandomForestClassifier(\n",
    "    featuresCol=\"features\", \n",
    "    labelCol=\"label\", \n",
    "    numTrees=30, \n",
    "    maxDepth=5, \n",
    "    seed=101\n",
    "    )\n",
    "\n",
    "# class weights\n",
    "rf_model = rf.fit(train_df_weighted) \n",
    "\n",
    "# resampling \n",
    "# rf_model = rf.fit(balanced_train_df) "
   ]
  },
  {
   "cell_type": "markdown",
   "id": "20ee9efa",
   "metadata": {},
   "source": [
    "### Logistic Regression Model"
   ]
  },
  {
   "cell_type": "code",
   "execution_count": 20,
   "id": "2cb09b24",
   "metadata": {},
   "outputs": [
    {
     "name": "stderr",
     "output_type": "stream",
     "text": [
      "25/05/07 05:17:44 WARN InstanceBuilder: Failed to load implementation from:dev.ludovic.netlib.blas.JNIBLAS\n",
      "25/05/07 05:17:44 WARN InstanceBuilder: Failed to load implementation from:dev.ludovic.netlib.blas.VectorBLAS\n",
      "                                                                                "
     ]
    }
   ],
   "source": [
    "lr = LogisticRegression(\n",
    "    featuresCol=\"features\", \n",
    "    labelCol=\"label\", \n",
    "    maxIter=30, \n",
    "    regParam=0.1, \n",
    "    elasticNetParam=0.8\n",
    ")\n",
    "\n",
    "\n",
    "# class weights\n",
    "lr_model = lr.fit(train_df_weighted)\n",
    "\n",
    "# resampling \n",
    "# lr_model = lr.fit(balanced_train_df)"
   ]
  },
  {
   "cell_type": "markdown",
   "id": "7a6676dd",
   "metadata": {},
   "source": [
    "### GBTClassifier Model"
   ]
  },
  {
   "cell_type": "code",
   "execution_count": 21,
   "id": "5597e88c",
   "metadata": {},
   "outputs": [
    {
     "name": "stderr",
     "output_type": "stream",
     "text": [
      "                                                                                "
     ]
    }
   ],
   "source": [
    "gbt = GBTClassifier(\n",
    "    featuresCol=\"features\", \n",
    "    labelCol=\"label\", \n",
    "    weightCol=\"classWeightCol\", # comment out if using resampling\n",
    "    maxIter=50, \n",
    "    maxDepth=5, \n",
    "    stepSize=0.1, \n",
    "    seed=101)\n",
    "\n",
    "# class weights\n",
    "gbt_model = gbt.fit(train_df_weighted)\n",
    "\n",
    "# resampling \n",
    "# gbt_model = gbt.fit(balanced_train_df)"
   ]
  },
  {
   "cell_type": "markdown",
   "id": "bb3dd08a",
   "metadata": {},
   "source": [
    "## 6. Evaluate Models"
   ]
  },
  {
   "cell_type": "code",
   "execution_count": 22,
   "id": "8b55f6ff-67d9-4c4e-b0f8-ee59fc19beb1",
   "metadata": {},
   "outputs": [
    {
     "name": "stderr",
     "output_type": "stream",
     "text": [
      "                                                                                "
     ]
    },
    {
     "name": "stdout",
     "output_type": "stream",
     "text": [
      "\n",
      "Random Forest Evaluation:\n",
      "AUC: 0.6341\n",
      "Accuracy: 0.9401\n",
      "Precision: 0.8838\n",
      "Recall: 0.9401\n",
      "F1 Score: 0.9111\n"
     ]
    },
    {
     "name": "stderr",
     "output_type": "stream",
     "text": [
      "/home/jj/.local/lib/python3.8/site-packages/pyspark/sql/context.py:158: FutureWarning: Deprecated in 3.0.0. Use SparkSession.builder.getOrCreate() instead.\n",
      "  warnings.warn(\n",
      "                                                                                "
     ]
    },
    {
     "data": {
      "image/png": "[encoded data removed]",
      "text/plain": [
       "<Figure size 600x500 with 2 Axes>"
      ]
     },
     "metadata": {},
     "output_type": "display_data"
    },
    {
     "name": "stderr",
     "output_type": "stream",
     "text": [
      "[Stage 581:============================>                            (2 + 2) / 4]"
     ]
    },
    {
     "name": "stdout",
     "output_type": "stream",
     "text": [
      "\n",
      "Logistic Regression Evaluation:\n",
      "AUC: 0.5000\n",
      "Accuracy: 0.9401\n",
      "Precision: 0.8838\n",
      "Recall: 0.9401\n",
      "F1 Score: 0.9111\n"
     ]
    },
    {
     "name": "stderr",
     "output_type": "stream",
     "text": [
      "/home/jj/.local/lib/python3.8/site-packages/pyspark/sql/context.py:158: FutureWarning: Deprecated in 3.0.0. Use SparkSession.builder.getOrCreate() instead.\n",
      "  warnings.warn(\n",
      "                                                                                "
     ]
    },
    {
     "data": {
      "image/png": "[encoded data removed]",
      "text/plain": [
       "<Figure size 600x500 with 2 Axes>"
      ]
     },
     "metadata": {},
     "output_type": "display_data"
    },
    {
     "name": "stderr",
     "output_type": "stream",
     "text": [
      "/home/jj/.local/lib/python3.8/site-packages/pyspark/sql/context.py:158: FutureWarning: Deprecated in 3.0.0. Use SparkSession.builder.getOrCreate() instead.\n",
      "  warnings.warn(\n"
     ]
    },
    {
     "name": "stdout",
     "output_type": "stream",
     "text": [
      "\n",
      "GBT Evaluation:\n",
      "AUC: 0.6670\n",
      "Accuracy: 0.9280\n",
      "Precision: 0.8991\n",
      "Recall: 0.9280\n",
      "F1 Score: 0.9112\n"
     ]
    },
    {
     "name": "stderr",
     "output_type": "stream",
     "text": [
      "                                                                                "
     ]
    },
    {
     "data": {
      "image/png": "[encoded data removed]",
      "text/plain": [
       "<Figure size 600x500 with 2 Axes>"
      ]
     },
     "metadata": {},
     "output_type": "display_data"
    }
   ],
   "source": [
    "# Evaluate Models\n",
    "models = {\n",
    "    \"Random Forest\": rf_model,\n",
    "    \"Logistic Regression\": lr_model,\n",
    "    \"GBT\": gbt_model\n",
    "}\n",
    "\n",
    "for model_name, model in models.items():\n",
    "    predictions = model.transform(test_df)\n",
    "    evaluator = BinaryClassificationEvaluator(\n",
    "        rawPredictionCol=\"rawPrediction\", labelCol=\"label\", metricName=\"areaUnderROC\"\n",
    "    )\n",
    "    auc = evaluator.evaluate(predictions)\n",
    "\n",
    "    evaluator_multi = MulticlassClassificationEvaluator(predictionCol=\"prediction\", labelCol=\"label\")\n",
    "    accuracy = evaluator_multi.setMetricName(\"accuracy\").evaluate(predictions)\n",
    "    precision = evaluator_multi.setMetricName(\"weightedPrecision\").evaluate(predictions)\n",
    "    recall = evaluator_multi.setMetricName(\"weightedRecall\").evaluate(predictions)\n",
    "    f1 = evaluator_multi.setMetricName(\"f1\").evaluate(predictions)\n",
    "\n",
    "    print(f\"\\n{model_name} Evaluation:\")\n",
    "    print(f\"AUC: {auc:.4f}\")\n",
    "    print(f\"Accuracy: {accuracy:.4f}\")\n",
    "    print(f\"Precision: {precision:.4f}\")\n",
    "    print(f\"Recall: {recall:.4f}\")\n",
    "    print(f\"F1 Score: {f1:.4f}\")\n",
    "\n",
    "    # Confusion Matrix\n",
    "    preds_and_labels = predictions.select(\"prediction\", \"label\").rdd.map(lambda row: (float(row.prediction), float(row.label)))\n",
    "    metrics = MulticlassMetrics(preds_and_labels)\n",
    "    cm = metrics.confusionMatrix().toArray()\n",
    "\n",
    "    plt.figure(figsize=(6,5))\n",
    "    sns.heatmap(cm, annot=True, fmt=\".0f\", cmap=\"Blues\",\n",
    "                xticklabels=[\"No Delay\", \"Severe Delay\"],\n",
    "                yticklabels=[\"No Delay\", \"Severe Delay\"])\n",
    "    plt.title(f\"Confusion Matrix: {model_name}\")\n",
    "    plt.xlabel(\"Predicted\")\n",
    "    plt.ylabel(\"Actual\")\n",
    "    plt.show()\n"
   ]
  },
  {
   "cell_type": "code",
   "execution_count": 23,
   "id": "a1f87400-fa72-4a0f-aab9-288bd23b58a5",
   "metadata": {},
   "outputs": [
    {
     "name": "stderr",
     "output_type": "stream",
     "text": [
      "                                                                                "
     ]
    }
   ],
   "source": [
    "# Save GBT Model and Pipeline\n",
    "pipeline_path = \"./flight_delay_gbt_pipeline_model\"\n",
    "model_path = \"./flight_delay_gbt_model\"\n",
    "\n",
    "pipeline_model.write().overwrite().save(pipeline_path)  # This saves the preprocessing pipeline\n",
    "gbt_model.write().overwrite().save(model_path)          # <-- Save GBT model here!\n"
   ]
  },
  {
   "cell_type": "markdown",
   "id": "9cabe3ad-4b12-468d-b111-d7725cde4b26",
   "metadata": {},
   "source": [
    "## 7. Feature Importance - Extract & visualize from flight data GBTClassifier model"
   ]
  },
  {
   "cell_type": "markdown",
   "id": "5393c1b5-f373-4dd4-9ad7-d7e8ddbb91d7",
   "metadata": {},
   "source": [
    "- Step 1: Extract feature names based on pipeline\n",
    "- Step 2: Extract feature importances from the trained GBTClassifier model\n",
    "- Step 3: Match feature names with importance scores and sort by importance\n",
    "- Step 4: Create a DataFrame for visualization\n",
    "- Step 5: Visualize using matplotlib"
   ]
  },
  {
   "cell_type": "code",
   "execution_count": 27,
   "id": "9ea0bcf5-4b9a-4196-89bf-8944dd3c5dad",
   "metadata": {},
   "outputs": [
    {
     "name": "stdout",
     "output_type": "stream",
     "text": [
      "Top 10 Feature Importances:\n",
      "DEP_DAY_OF_WEEK: 0.1154\n",
      "DEST_OHE_375: 0.0810\n",
      "DISTANCE: 0.0727\n",
      "ARR_MINUTE: 0.0606\n",
      "DEP_MINUTE: 0.0475\n",
      "ARR_HOUR: 0.0323\n",
      "DEP_HOUR: 0.0321\n",
      "DEST_OHE_373: 0.0308\n",
      "CRS_ELAPSED_TIME: 0.0274\n",
      "AIRLINE_CODE_OHE_0: 0.0241\n"
     ]
    }
   ],
   "source": [
    "# STEP 1: Extract feature names based on pipeline\n",
    "# For categorical columns that were one-hot encoded\n",
    "categorical_cols = [\"AIRLINE_CODE\", \"ORIGIN\", \"DEST\"]\n",
    "\n",
    "# Get the StringIndexer and OneHotEncoder models from pipeline\n",
    "indexer_models = [stage for stage in pipeline_model.stages if isinstance(stage, StringIndexerModel) and stage.getInputCol() in categorical_cols]\n",
    "encoder_models = [stage for stage in pipeline_model.stages if isinstance(stage, OneHotEncoderModel) and stage.getInputCol() in [col+\"Index\" for col in categorical_cols]]\n",
    "\n",
    "# Extract OHE category sizes\n",
    "ohe_sizes = []\n",
    "for model in encoder_models:\n",
    "    ohe_sizes.append(model.categorySizes)\n",
    "\n",
    "# Build full list of OHE feature names\n",
    "ohe_feature_names = []\n",
    "for col, sizes in zip(categorical_cols, ohe_sizes):\n",
    "    for i in range(sizes[0]):  # Each categorical column creates sizes[0] one-hot columns\n",
    "        ohe_feature_names.append(f\"{col}_OHE_{i}\")\n",
    "\n",
    "# Get numerical column names\n",
    "numerical_cols = [col for col in featureCols if col not in categorical_cols]\n",
    "\n",
    "# Full feature list (in the same order as in the VectorAssembler)\n",
    "final_feature_names = ohe_feature_names + numerical_cols\n",
    "\n",
    "\n",
    "# STEP 2: Extract feature importances from the trained GBTClassifier model\n",
    "importances = gbt_model.featureImportances.toArray().tolist()\n",
    "\n",
    "\n",
    "# STEP 3: Match feature names with importance scores and sort by importance\n",
    "feature_importance = sorted(zip(final_feature_names, importances), key=lambda x: x[1], reverse=True)\n",
    "\n",
    "# Print top features\n",
    "print(\"Top 10 Feature Importances:\")\n",
    "for name, score in feature_importance[:10]:\n",
    "    print(f\"{name}: {score:.4f}\")\n",
    "\n",
    "\n",
    "# Step 4: Create a DataFrame for visualization\n",
    "top_n = 15  # Display top 15 features\n",
    "top_features = feature_importance[:top_n]\n",
    "feature_df = pd.DataFrame(top_features, columns=['Feature', 'Importance'])\n"
   ]
  },
  {
   "cell_type": "code",
   "execution_count": 34,
   "id": "e7645c81-97ec-432d-a662-1e4375ede1c5",
   "metadata": {},
   "outputs": [
    {
     "data": {
      "image/png": "[encoded data removed]",
      "text/plain": [
       "<Figure size 1200x800 with 1 Axes>"
      ]
     },
     "metadata": {},
     "output_type": "display_data"
    }
   ],
   "source": [
    "# STEP 5: Visualize Feature Importances\n",
    "plt.figure(figsize=(12, 8))\n",
    "\n",
    "# Create horizontal bar chart\n",
    "bars = plt.barh(y=np.arange(len(feature_df)), width=feature_df['Importance'])\n",
    "\n",
    "# Color the bars by feature type (categorical vs numerical)\n",
    "for i, feature in enumerate(feature_df['Feature']):\n",
    "    if 'OHE' in feature:\n",
    "        bars[i].set_color('skyblue')\n",
    "    else:\n",
    "        bars[i].set_color('orange')\n",
    "\n",
    "# Set y-ticks to feature names\n",
    "plt.yticks(np.arange(len(feature_df)), feature_df['Feature'])\n",
    "plt.xlabel('Importance Score')\n",
    "plt.title('GBTClassifier Feature Importance for Flight Data')\n",
    "plt.tight_layout()\n",
    "\n",
    "# Add values on bars\n",
    "for i, v in enumerate(feature_df['Importance']):\n",
    "    plt.text(v + 0.001, i, f'{v:.4f}', va='center')\n",
    "\n",
    "# Add legend\n",
    "from matplotlib.patches import Patch\n",
    "legend_elements = [\n",
    "    Patch(facecolor='skyblue', label='Categorical (OHE)'),\n",
    "    Patch(facecolor='orange', label='Numerical')\n",
    "]\n",
    "plt.legend(handles=legend_elements, loc='upper right')\n",
    "\n",
    "plt.tight_layout()\n",
    "plt.show()\n"
   ]
  },
  {
   "cell_type": "code",
   "execution_count": 36,
   "id": "f6ef3e91-3596-4e15-ae45-26cace3090f6",
   "metadata": {},
   "outputs": [
    {
     "name": "stdout",
     "output_type": "stream",
     "text": [
      "\n",
      "Feature Importance by Original Column:\n",
      "DEST: 0.2471\n",
      "AIRLINE_CODE: 0.1783\n",
      "ORIGIN: 0.1666\n",
      "DEP_DAY_OF_WEEK: 0.1154\n",
      "DISTANCE: 0.0727\n",
      "ARR_MINUTE: 0.0606\n",
      "DEP_MINUTE: 0.0475\n",
      "ARR_HOUR: 0.0323\n",
      "DEP_HOUR: 0.0321\n",
      "CRS_ELAPSED_TIME: 0.0274\n",
      "DEP_DAY_OF_MONTH: 0.0155\n",
      "DEP_MONTH: 0.0046\n"
     ]
    }
   ],
   "source": [
    "# Additional Analysis: Group importances by original feature\n",
    "# This helps understand the total importance of each original categorical feature\n",
    "feature_groups = {}\n",
    "\n",
    "# Group OHE features by their original categorical column\n",
    "for feature, importance in feature_importance:\n",
    "    if 'OHE' in feature:\n",
    "        # Extract original column name (before one-hot encoding)\n",
    "        original_feature = feature.split('_OHE_')[0]\n",
    "        if original_feature not in feature_groups:\n",
    "            feature_groups[original_feature] = 0\n",
    "        feature_groups[original_feature] += importance\n",
    "    else:\n",
    "        # Numerical features stay as they are\n",
    "        feature_groups[feature] = importance\n",
    "\n",
    "# Sort by total importance\n",
    "grouped_importance = sorted(feature_groups.items(), key=lambda x: x[1], reverse=True)\n",
    "\n",
    "print(\"\\nFeature Importance by Original Column:\")\n",
    "for name, score in grouped_importance:\n",
    "    print(f\"{name}: {score:.4f}\")\n"
   ]
  },
  {
   "cell_type": "code",
   "execution_count": 38,
   "id": "996f82f7-737e-484d-9119-a905f99cda6e",
   "metadata": {},
   "outputs": [
    {
     "data": {
      "image/png": "[encoded data removed]",
      "text/plain": [
       "<Figure size 1200x600 with 1 Axes>"
      ]
     },
     "metadata": {},
     "output_type": "display_data"
    }
   ],
   "source": [
    "# Visualize grouped importance\n",
    "plt.figure(figsize=(12, 6))\n",
    "group_df = pd.DataFrame(grouped_importance, columns=['Original Feature', 'Total Importance'])\n",
    "\n",
    "# Create bar chart for grouped features\n",
    "plt.bar(group_df['Original Feature'], group_df['Total Importance'], color='teal')\n",
    "plt.xticks(rotation=45, ha='right')\n",
    "plt.xlabel('Original Feature')\n",
    "plt.ylabel('Total Importance')\n",
    "plt.title('Feature Importance by Original Column (Before OHE)')\n",
    "\n",
    "# Add values on bars\n",
    "for i, v in enumerate(group_df['Total Importance']):\n",
    "    plt.text(i, v + 0.005, f'{v:.4f}', ha='center')\n",
    "\n",
    "plt.tight_layout()\n",
    "plt.show()"
   ]
  },
  {
   "cell_type": "code",
   "execution_count": 25,
   "id": "9cc5bd4f-8dc5-46fa-92b3-8de08c01d51c",
   "metadata": {},
   "outputs": [],
   "source": [
    "spark.stop()\n",
    "print(\"\\nSpark Session Stopped.\")"
   ]
  }
 ],
 "metadata": {
  "kernelspec": {
   "display_name": "Python 3 (ipykernel)",
   "language": "python",
   "name": "python3"
  },
  "language_info": {
   "codemirror_mode": {
    "name": "ipython",
    "version": 3
   },
   "file_extension": ".py",
   "mimetype": "text/x-python",
   "name": "python",
   "nbconvert_exporter": "python",
   "pygments_lexer": "ipython3",
   "version": "3.8.10"
  }
 },
 "nbformat": 4,
 "nbformat_minor": 5
}
