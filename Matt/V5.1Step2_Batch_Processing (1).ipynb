{
 "cells": [
  {
   "cell_type": "markdown",
   "id": "663f7dc4-ca30-4c5f-9b9c-c33bd8af2e93",
   "metadata": {},
   "source": [
    "# 1. Create Spark Session & Import Libraries"
   ]
  },
  {
   "cell_type": "code",
   "execution_count": 3,
   "id": "87b93c34-4104-480f-bc28-49712f3b93e6",
   "metadata": {},
   "outputs": [
    {
     "name": "stdout",
     "output_type": "stream",
     "text": [
      "Collecting pyspark\n",
      "  Downloading pyspark-3.5.5.tar.gz (317.2 MB)\n",
      "\u001b[K     |████████████████████████████████| 317.2 MB 631 bytes/s a 0:00:01\n",
      "\u001b[?25hRequirement already satisfied: findspark in /home/jj/.local/lib/python3.8/site-packages (2.0.1)\n",
      "Collecting py4j==0.10.9.7\n",
      "  Downloading py4j-0.10.9.7-py2.py3-none-any.whl (200 kB)\n",
      "\u001b[K     |████████████████████████████████| 200 kB 14.7 MB/s eta 0:00:01\n",
      "\u001b[?25hBuilding wheels for collected packages: pyspark\n",
      "done\n",
      "\u001b[?25h  Created wheel for pyspark: filename=pyspark-3.5.5-py2.py3-none-any.whl size=317747881 sha256=d56628120b90e242e8f289edb3204e1e76b7db3bea46cb313c2720c4293412c2\n",
      "  Stored in directory: /home/jj/.cache/pip/wheels/9e/5b/b4/a3ac8d456edf8c52eb15f9eb357d961812d5f17bf203c54c18\n",
      "Successfully built pyspark\n",
      "Installing collected packages: py4j, pyspark\n",
      "  Attempting uninstall: py4j\n",
      "    Found existing installation: py4j 0.10.9.9\n",
      "    Uninstalling py4j-0.10.9.9:\n",
      "      Successfully uninstalled py4j-0.10.9.9\n",
      "Successfully installed py4j-0.10.9.7 pyspark-3.5.5\n"
     ]
    }
   ],
   "source": [
    "# if pyspark needs to be installed:\n",
    "# !pip install pyspark findspark"
   ]
  },
  {
   "cell_type": "code",
   "execution_count": 1,
   "id": "abcac8a3-a758-4444-9faf-71263f997c20",
   "metadata": {},
   "outputs": [
    {
     "name": "stderr",
     "output_type": "stream",
     "text": [
      "Setting default log level to \"WARN\".\n",
      "To adjust logging level use sc.setLogLevel(newLevel). For SparkR, use setLogLevel(newLevel).\n",
      "25/04/29 19:02:50 WARN NativeCodeLoader: Unable to load native-hadoop library for your platform... using builtin-java classes where applicable\n",
      "25/04/29 19:03:07 WARN GarbageCollectionMetrics: To enable non-built-in garbage collector(s) List(G1 Concurrent GC), users should configure it(them) to spark.eventLog.gcMetrics.youngGenerationGarbageCollectors or spark.eventLog.gcMetrics.oldGenerationGarbageCollectors\n"
     ]
    }
   ],
   "source": [
    "# spark libraries\n",
    "import findspark\n",
    "from pyspark.sql import SparkSession\n",
    "from pyspark.sql import functions as F\n",
    "from pyspark.sql.types import StringType, IntegerType, DoubleType, DateType, StructType, StructField\n",
    "\n",
    "# ds libraries\n",
    "import matplotlib.pyplot as plt\n",
    "import seaborn as sns\n",
    "import pandas as pd\n",
    "import numpy as np\n",
    "\n",
    "# ml libraries\n",
    "from pyspark.ml import Pipeline\n",
    "from pyspark.ml.feature import StringIndexer, OneHotEncoder, VectorAssembler, MinMaxScaler, StandardScaler\n",
    "from pyspark.ml.classification import RandomForestClassifier, LogisticRegression, GBTClassifier\n",
    "from pyspark.ml.evaluation import BinaryClassificationEvaluator, MulticlassClassificationEvaluator\n",
    "from pyspark.mllib.evaluation import MulticlassMetrics\n",
    "\n",
    "findspark.init()\n",
    "\n",
    "spark = SparkSession.builder \\\n",
    "    .appName(\"FlightDelayBatchProcessing\") \\\n",
    "    .config(\"spark.driver.memory\", \"16g\") \\\n",
    "    .config(\"spark.executor.memory\", \"16g\") \\\n",
    "    .getOrCreate()"
   ]
  },
  {
   "cell_type": "markdown",
   "id": "d1c9aa3d-b2e8-4546-a41b-0a36b87459ad",
   "metadata": {},
   "source": [
    "# 2. Define Schema & Data Preprocessing"
   ]
  },
  {
   "cell_type": "code",
   "execution_count": 3,
   "id": "9bc94a04-be5d-469a-a251-44273b2c2d82",
   "metadata": {},
   "outputs": [],
   "source": [
    "# define schema\n",
    "schema = StructType([\n",
    "    StructField(\"FL_DATE\", StringType(), True),\n",
    "    StructField(\"AIRLINE\", StringType(), True),\n",
    "    StructField(\"AIRLINE_DOT\", StringType(), True),\n",
    "    StructField(\"AIRLINE_CODE\", StringType(), True),\n",
    "    StructField(\"DOT_CODE\", IntegerType(), True),\n",
    "    StructField(\"FL_NUMBER\", IntegerType(), True),\n",
    "    StructField(\"ORIGIN\", StringType(), True),\n",
    "    StructField(\"ORIGIN_CITY\", StringType(), True),\n",
    "    StructField(\"DEST\", StringType(), True),\n",
    "    StructField(\"DEST_CITY\", StringType(), True),\n",
    "    StructField(\"CRS_DEP_TIME\", IntegerType(), True),\n",
    "    StructField(\"DEP_TIME\", DoubleType(), True),\n",
    "    StructField(\"DEP_DELAY\", DoubleType(), True),\n",
    "    StructField(\"TAXI_OUT\", DoubleType(), True),\n",
    "    StructField(\"WHEELS_OFF\", DoubleType(), True),\n",
    "    StructField(\"WHEELS_ON\", DoubleType(), True),\n",
    "    StructField(\"TAXI_IN\", DoubleType(), True),\n",
    "    StructField(\"CRS_ARR_TIME\", IntegerType(), True),\n",
    "    StructField(\"ARR_TIME\", DoubleType(), True),\n",
    "    StructField(\"ARR_DELAY\", DoubleType(), True),\n",
    "    StructField(\"CANCELLED\", DoubleType(), True),\n",
    "    StructField(\"CANCELLATION_CODE\", StringType(), True),\n",
    "    StructField(\"DIVERTED\", DoubleType(), True),\n",
    "    StructField(\"CRS_ELAPSED_TIME\", DoubleType(), True),\n",
    "    StructField(\"ELAPSED_TIME\", DoubleType(), True),\n",
    "    StructField(\"AIR_TIME\", DoubleType(), True),\n",
    "    StructField(\"DISTANCE\", DoubleType(), True),\n",
    "    StructField(\"DELAY_DUE_CARRIER\", DoubleType(), True),\n",
    "    StructField(\"DELAY_DUE_WEATHER\", DoubleType(), True),\n",
    "    StructField(\"DELAY_DUE_NAS\", DoubleType(), True),\n",
    "    StructField(\"DELAY_DUE_SECURITY\", DoubleType(), True),\n",
    "    StructField(\"DELAY_DUE_LATE_AIRCRAFT\", DoubleType(), True)\n",
    "])\n",
    "\n",
    "# read in csv data file\n",
    "data_path = \"flight_data.csv\"\n",
    "df = spark.read.csv(data_path, header=True, schema=schema)\n",
    "\n",
    "# edit formatting of flight date\n",
    "df = df.withColumn(\"FL_DATE\", F.to_date(F.col(\"FL_DATE\"), \"yyyy-MM-dd\"))"
   ]
  },
  {
   "cell_type": "markdown",
   "id": "0abdef5d-4f46-4b7b-8e07-c38fdbe3c777",
   "metadata": {},
   "source": [
    "### Data Checking"
   ]
  },
  {
   "cell_type": "code",
   "execution_count": 4,
   "id": "e418a8b2-faf4-4292-9082-98e9f6d15234",
   "metadata": {},
   "outputs": [
    {
     "name": "stdout",
     "output_type": "stream",
     "text": [
      "root\n",
      " |-- FL_DATE: date (nullable = true)\n",
      " |-- AIRLINE: string (nullable = true)\n",
      " |-- AIRLINE_DOT: string (nullable = true)\n",
      " |-- AIRLINE_CODE: string (nullable = true)\n",
      " |-- DOT_CODE: integer (nullable = true)\n",
      " |-- FL_NUMBER: integer (nullable = true)\n",
      " |-- ORIGIN: string (nullable = true)\n",
      " |-- ORIGIN_CITY: string (nullable = true)\n",
      " |-- DEST: string (nullable = true)\n",
      " |-- DEST_CITY: string (nullable = true)\n",
      " |-- CRS_DEP_TIME: integer (nullable = true)\n",
      " |-- DEP_TIME: double (nullable = true)\n",
      " |-- DEP_DELAY: double (nullable = true)\n",
      " |-- TAXI_OUT: double (nullable = true)\n",
      " |-- WHEELS_OFF: double (nullable = true)\n",
      " |-- WHEELS_ON: double (nullable = true)\n",
      " |-- TAXI_IN: double (nullable = true)\n",
      " |-- CRS_ARR_TIME: integer (nullable = true)\n",
      " |-- ARR_TIME: double (nullable = true)\n",
      " |-- ARR_DELAY: double (nullable = true)\n",
      " |-- CANCELLED: double (nullable = true)\n",
      " |-- CANCELLATION_CODE: string (nullable = true)\n",
      " |-- DIVERTED: double (nullable = true)\n",
      " |-- CRS_ELAPSED_TIME: double (nullable = true)\n",
      " |-- ELAPSED_TIME: double (nullable = true)\n",
      " |-- AIR_TIME: double (nullable = true)\n",
      " |-- DISTANCE: double (nullable = true)\n",
      " |-- DELAY_DUE_CARRIER: double (nullable = true)\n",
      " |-- DELAY_DUE_WEATHER: double (nullable = true)\n",
      " |-- DELAY_DUE_NAS: double (nullable = true)\n",
      " |-- DELAY_DUE_SECURITY: double (nullable = true)\n",
      " |-- DELAY_DUE_LATE_AIRCRAFT: double (nullable = true)\n",
      "\n"
     ]
    }
   ],
   "source": [
    "# show df schema\n",
    "df.printSchema()"
   ]
  },
  {
   "cell_type": "code",
   "execution_count": 5,
   "id": "b6642667-9169-458e-8b53-a7ef0a327bff",
   "metadata": {},
   "outputs": [
    {
     "name": "stderr",
     "output_type": "stream",
     "text": [
      "25/04/29 19:04:15 WARN SparkStringUtils: Truncated the string representation of a plan since it was too large. This behavior can be adjusted by setting 'spark.sql.debug.maxToStringFields'.\n"
     ]
    },
    {
     "name": "stdout",
     "output_type": "stream",
     "text": [
      "+----------+---------------------+-------------------------+------------+--------+---------+------+-------------------+----+---------------------+------------+--------+---------+--------+----------+---------+-------+------------+--------+---------+---------+-----------------+--------+----------------+------------+--------+--------+-----------------+-----------------+-------------+------------------+-----------------------+\n",
      "|FL_DATE   |AIRLINE              |AIRLINE_DOT              |AIRLINE_CODE|DOT_CODE|FL_NUMBER|ORIGIN|ORIGIN_CITY        |DEST|DEST_CITY            |CRS_DEP_TIME|DEP_TIME|DEP_DELAY|TAXI_OUT|WHEELS_OFF|WHEELS_ON|TAXI_IN|CRS_ARR_TIME|ARR_TIME|ARR_DELAY|CANCELLED|CANCELLATION_CODE|DIVERTED|CRS_ELAPSED_TIME|ELAPSED_TIME|AIR_TIME|DISTANCE|DELAY_DUE_CARRIER|DELAY_DUE_WEATHER|DELAY_DUE_NAS|DELAY_DUE_SECURITY|DELAY_DUE_LATE_AIRCRAFT|\n",
      "+----------+---------------------+-------------------------+------------+--------+---------+------+-------------------+----+---------------------+------------+--------+---------+--------+----------+---------+-------+------------+--------+---------+---------+-----------------+--------+----------------+------------+--------+--------+-----------------+-----------------+-------------+------------------+-----------------------+\n",
      "|2019-01-09|United Air Lines Inc.|United Air Lines Inc.: UA|UA          |19977   |1562     |FLL   |Fort Lauderdale, FL|EWR |Newark, NJ           |1155        |1151.0  |-4.0     |19.0    |1210.0    |1443.0   |4.0    |1501        |1447.0  |-14.0    |0.0      |NULL             |0.0     |186.0           |176.0       |153.0   |1065.0  |NULL             |NULL             |NULL         |NULL              |NULL                   |\n",
      "|2022-11-19|Delta Air Lines Inc. |Delta Air Lines Inc.: DL |DL          |19790   |1149     |MSP   |Minneapolis, MN    |SEA |Seattle, WA          |2120        |2114.0  |-6.0     |9.0     |2123.0    |2232.0   |38.0   |2315        |2310.0  |-5.0     |0.0      |NULL             |0.0     |235.0           |236.0       |189.0   |1399.0  |NULL             |NULL             |NULL         |NULL              |NULL                   |\n",
      "|2022-07-22|United Air Lines Inc.|United Air Lines Inc.: UA|UA          |19977   |459      |DEN   |Denver, CO         |MSP |Minneapolis, MN      |954         |1000.0  |6.0      |20.0    |1020.0    |1247.0   |5.0    |1252        |1252.0  |0.0      |0.0      |NULL             |0.0     |118.0           |112.0       |87.0    |680.0   |NULL             |NULL             |NULL         |NULL              |NULL                   |\n",
      "|2023-03-06|Delta Air Lines Inc. |Delta Air Lines Inc.: DL |DL          |19790   |2295     |MSP   |Minneapolis, MN    |SFO |San Francisco, CA    |1609        |1608.0  |-1.0     |27.0    |1635.0    |1844.0   |9.0    |1829        |1853.0  |24.0     |0.0      |NULL             |0.0     |260.0           |285.0       |249.0   |1589.0  |0.0              |0.0              |24.0         |0.0               |0.0                    |\n",
      "|2020-02-23|Spirit Air Lines     |Spirit Air Lines: NK     |NK          |20416   |407      |MCO   |Orlando, FL        |DFW |Dallas/Fort Worth, TX|1840        |1838.0  |-2.0     |15.0    |1853.0    |2026.0   |14.0   |2041        |2040.0  |-1.0     |0.0      |NULL             |0.0     |181.0           |182.0       |153.0   |985.0   |NULL             |NULL             |NULL         |NULL              |NULL                   |\n",
      "+----------+---------------------+-------------------------+------------+--------+---------+------+-------------------+----+---------------------+------------+--------+---------+--------+----------+---------+-------+------------+--------+---------+---------+-----------------+--------+----------------+------------+--------+--------+-----------------+-----------------+-------------+------------------+-----------------------+\n",
      "only showing top 5 rows\n",
      "\n"
     ]
    }
   ],
   "source": [
    "# show 1st 5 rows of df\n",
    "df.show(5, truncate=False)"
   ]
  },
  {
   "cell_type": "markdown",
   "id": "80a16b65-e72a-477d-bec1-fcd67d7fa8da",
   "metadata": {},
   "source": [
    "### Data Cleaning"
   ]
  },
  {
   "cell_type": "code",
   "execution_count": 6,
   "id": "6f3009ee-97ee-472e-9168-d15e6c511390",
   "metadata": {},
   "outputs": [],
   "source": [
    "# Drop Irrelevant Fields\n",
    "columns_to_drop = [\n",
    "    'AIRLINE_DOT', 'DOT_CODE', 'FL_NUMBER', 'ORIGIN_CITY', 'DEST_CITY',\n",
    "    'DEP_TIME', 'DEP_DELAY',\n",
    "    'TAXI_OUT', 'WHEELS_OFF', 'WHEELS_ON', 'TAXI_IN',\n",
    "    'ARR_TIME',\n",
    "    'CANCELLED', 'CANCELLATION_CODE', 'DIVERTED',\n",
    "    'ELAPSED_TIME', 'AIR_TIME',\n",
    "    'DELAY_DUE_CARRIER', 'DELAY_DUE_WEATHER', 'DELAY_DUE_NAS',\n",
    "    'DELAY_DUE_SECURITY', 'DELAY_DUE_LATE_AIRCRAFT'\n",
    "]\n",
    "df_cleaned = df.drop(*columns_to_drop)\n",
    "\n",
    "# Drop Nulls\n",
    "df_cleaned = df_cleaned.dropna(subset=[\n",
    "    \"ARR_DELAY\", \"CRS_DEP_TIME\", \"CRS_ARR_TIME\", \"CRS_ELAPSED_TIME\",\n",
    "    \"DISTANCE\", \"ORIGIN\", \"DEST\", \"AIRLINE\", \"AIRLINE_CODE\"\n",
    "])\n",
    "\n",
    "# Outlier Handling\n",
    "df_cleaned = df_cleaned.filter((F.col(\"CRS_ELAPSED_TIME\") > 0) & (F.col(\"CRS_ELAPSED_TIME\") < 1000))\n",
    "df_cleaned = df_cleaned.filter((F.col(\"DISTANCE\") > 0) & (F.col(\"DISTANCE\") < 3000))"
   ]
  },
  {
   "cell_type": "markdown",
   "id": "554294ee-1b25-4755-90c0-746adb5b33fe",
   "metadata": {},
   "source": [
    "### Data Checking"
   ]
  },
  {
   "cell_type": "code",
   "execution_count": 7,
   "id": "7ee81dee-160d-4514-8156-62358c26f29b",
   "metadata": {},
   "outputs": [
    {
     "name": "stdout",
     "output_type": "stream",
     "text": [
      "root\n",
      " |-- FL_DATE: date (nullable = true)\n",
      " |-- AIRLINE: string (nullable = true)\n",
      " |-- AIRLINE_DOT: string (nullable = true)\n",
      " |-- AIRLINE_CODE: string (nullable = true)\n",
      " |-- DOT_CODE: integer (nullable = true)\n",
      " |-- FL_NUMBER: integer (nullable = true)\n",
      " |-- ORIGIN: string (nullable = true)\n",
      " |-- ORIGIN_CITY: string (nullable = true)\n",
      " |-- DEST: string (nullable = true)\n",
      " |-- DEST_CITY: string (nullable = true)\n",
      " |-- CRS_DEP_TIME: integer (nullable = true)\n",
      " |-- DEP_TIME: double (nullable = true)\n",
      " |-- DEP_DELAY: double (nullable = true)\n",
      " |-- TAXI_OUT: double (nullable = true)\n",
      " |-- WHEELS_OFF: double (nullable = true)\n",
      " |-- WHEELS_ON: double (nullable = true)\n",
      " |-- TAXI_IN: double (nullable = true)\n",
      " |-- CRS_ARR_TIME: integer (nullable = true)\n",
      " |-- ARR_TIME: double (nullable = true)\n",
      " |-- ARR_DELAY: double (nullable = true)\n",
      " |-- CANCELLED: double (nullable = true)\n",
      " |-- CANCELLATION_CODE: string (nullable = true)\n",
      " |-- DIVERTED: double (nullable = true)\n",
      " |-- CRS_ELAPSED_TIME: double (nullable = true)\n",
      " |-- ELAPSED_TIME: double (nullable = true)\n",
      " |-- AIR_TIME: double (nullable = true)\n",
      " |-- DISTANCE: double (nullable = true)\n",
      " |-- DELAY_DUE_CARRIER: double (nullable = true)\n",
      " |-- DELAY_DUE_WEATHER: double (nullable = true)\n",
      " |-- DELAY_DUE_NAS: double (nullable = true)\n",
      " |-- DELAY_DUE_SECURITY: double (nullable = true)\n",
      " |-- DELAY_DUE_LATE_AIRCRAFT: double (nullable = true)\n",
      "\n"
     ]
    }
   ],
   "source": [
    "# show df schema\n",
    "df.printSchema()"
   ]
  },
  {
   "cell_type": "code",
   "execution_count": 8,
   "id": "963ea701-72bf-4935-be54-b4a0d6f0ade1",
   "metadata": {},
   "outputs": [
    {
     "name": "stdout",
     "output_type": "stream",
     "text": [
      "+----------+---------------------+-------------------------+------------+--------+---------+------+-------------------+----+---------------------+------------+--------+---------+--------+----------+---------+-------+------------+--------+---------+---------+-----------------+--------+----------------+------------+--------+--------+-----------------+-----------------+-------------+------------------+-----------------------+\n",
      "|FL_DATE   |AIRLINE              |AIRLINE_DOT              |AIRLINE_CODE|DOT_CODE|FL_NUMBER|ORIGIN|ORIGIN_CITY        |DEST|DEST_CITY            |CRS_DEP_TIME|DEP_TIME|DEP_DELAY|TAXI_OUT|WHEELS_OFF|WHEELS_ON|TAXI_IN|CRS_ARR_TIME|ARR_TIME|ARR_DELAY|CANCELLED|CANCELLATION_CODE|DIVERTED|CRS_ELAPSED_TIME|ELAPSED_TIME|AIR_TIME|DISTANCE|DELAY_DUE_CARRIER|DELAY_DUE_WEATHER|DELAY_DUE_NAS|DELAY_DUE_SECURITY|DELAY_DUE_LATE_AIRCRAFT|\n",
      "+----------+---------------------+-------------------------+------------+--------+---------+------+-------------------+----+---------------------+------------+--------+---------+--------+----------+---------+-------+------------+--------+---------+---------+-----------------+--------+----------------+------------+--------+--------+-----------------+-----------------+-------------+------------------+-----------------------+\n",
      "|2019-01-09|United Air Lines Inc.|United Air Lines Inc.: UA|UA          |19977   |1562     |FLL   |Fort Lauderdale, FL|EWR |Newark, NJ           |1155        |1151.0  |-4.0     |19.0    |1210.0    |1443.0   |4.0    |1501        |1447.0  |-14.0    |0.0      |NULL             |0.0     |186.0           |176.0       |153.0   |1065.0  |NULL             |NULL             |NULL         |NULL              |NULL                   |\n",
      "|2022-11-19|Delta Air Lines Inc. |Delta Air Lines Inc.: DL |DL          |19790   |1149     |MSP   |Minneapolis, MN    |SEA |Seattle, WA          |2120        |2114.0  |-6.0     |9.0     |2123.0    |2232.0   |38.0   |2315        |2310.0  |-5.0     |0.0      |NULL             |0.0     |235.0           |236.0       |189.0   |1399.0  |NULL             |NULL             |NULL         |NULL              |NULL                   |\n",
      "|2022-07-22|United Air Lines Inc.|United Air Lines Inc.: UA|UA          |19977   |459      |DEN   |Denver, CO         |MSP |Minneapolis, MN      |954         |1000.0  |6.0      |20.0    |1020.0    |1247.0   |5.0    |1252        |1252.0  |0.0      |0.0      |NULL             |0.0     |118.0           |112.0       |87.0    |680.0   |NULL             |NULL             |NULL         |NULL              |NULL                   |\n",
      "|2023-03-06|Delta Air Lines Inc. |Delta Air Lines Inc.: DL |DL          |19790   |2295     |MSP   |Minneapolis, MN    |SFO |San Francisco, CA    |1609        |1608.0  |-1.0     |27.0    |1635.0    |1844.0   |9.0    |1829        |1853.0  |24.0     |0.0      |NULL             |0.0     |260.0           |285.0       |249.0   |1589.0  |0.0              |0.0              |24.0         |0.0               |0.0                    |\n",
      "|2020-02-23|Spirit Air Lines     |Spirit Air Lines: NK     |NK          |20416   |407      |MCO   |Orlando, FL        |DFW |Dallas/Fort Worth, TX|1840        |1838.0  |-2.0     |15.0    |1853.0    |2026.0   |14.0   |2041        |2040.0  |-1.0     |0.0      |NULL             |0.0     |181.0           |182.0       |153.0   |985.0   |NULL             |NULL             |NULL         |NULL              |NULL                   |\n",
      "+----------+---------------------+-------------------------+------------+--------+---------+------+-------------------+----+---------------------+------------+--------+---------+--------+----------+---------+-------+------------+--------+---------+---------+-----------------+--------+----------------+------------+--------+--------+-----------------+-----------------+-------------+------------------+-----------------------+\n",
      "only showing top 5 rows\n",
      "\n"
     ]
    }
   ],
   "source": [
    "# show 1st 5 rows of df\n",
    "df.show(5, truncate=False)"
   ]
  },
  {
   "cell_type": "markdown",
   "id": "a8e5974a-de20-4944-927d-1883342cc33b",
   "metadata": {},
   "source": [
    "# 3. Feature Engineering"
   ]
  },
  {
   "cell_type": "code",
   "execution_count": 9,
   "id": "4246eccf-e837-499c-98b1-46390560e4e9",
   "metadata": {},
   "outputs": [],
   "source": [
    "delay_threshold = 60\n",
    "\n",
    "df_featured = df_cleaned.withColumn(\"SEVERE_DELAY\", F.when(F.col(\"ARR_DELAY\") >= delay_threshold, 1).otherwise(0))\n",
    "df_featured = df_featured.withColumn(\"DEP_HOUR\", (F.col(\"CRS_DEP_TIME\") / 100).cast(\"integer\"))\n",
    "df_featured = df_featured.withColumn(\"DEP_MINUTE\", (F.col(\"CRS_DEP_TIME\") % 100).cast(\"integer\"))\n",
    "df_featured = df_featured.withColumn(\"ARR_HOUR\", (F.col(\"CRS_ARR_TIME\") / 100).cast(\"integer\"))\n",
    "df_featured = df_featured.withColumn(\"ARR_MINUTE\", (F.col(\"CRS_ARR_TIME\") % 100).cast(\"integer\"))\n",
    "df_featured = df_featured.withColumn(\"DEP_DAY_OF_WEEK\", F.dayofweek(F.col(\"FL_DATE\")))\n",
    "df_featured = df_featured.withColumn(\"DEP_MONTH\", F.month(F.col(\"FL_DATE\")))\n",
    "df_featured = df_featured.withColumn(\"DEP_DAY_OF_MONTH\", F.dayofmonth(F.col(\"FL_DATE\")))\n",
    "df_featured = df_featured.withColumn(\"DEP_WEEK_OF_YEAR\", F.weekofyear(F.col(\"FL_DATE\")))\n",
    "df_featured = df_featured.withColumn(\"IS_WEEKEND\", F.when(F.col(\"DEP_DAY_OF_WEEK\").isin([1,7]), 1).otherwise(0))\n",
    "df_featured = df_featured.withColumn(\"DISTANCE_PER_MINUTE\", F.col(\"DISTANCE\")/(F.col(\"CRS_ELAPSED_TIME\")+1e-6))\n",
    "\n",
    "featureCols = [\n",
    "    \"AIRLINE_CODE\", \"ORIGIN\", \"DEST\",\n",
    "    \"CRS_ELAPSED_TIME\", \"DISTANCE\",\n",
    "    \"DEP_HOUR\", \"DEP_MINUTE\", \"ARR_HOUR\", \"ARR_MINUTE\",\n",
    "    \"DEP_DAY_OF_WEEK\", \"DEP_MONTH\", \"DEP_DAY_OF_MONTH\", \"DEP_WEEK_OF_YEAR\",\n",
    "    \"IS_WEEKEND\", \"DISTANCE_PER_MINUTE\"\n",
    "]\n",
    "\n",
    "labelCol = \"SEVERE_DELAY\"\n",
    "\n",
    "final_df = df_featured.select(featureCols + [labelCol])"
   ]
  },
  {
   "cell_type": "code",
   "execution_count": 10,
   "id": "c6ed198b-1e00-4b67-9cac-5d98215a5832",
   "metadata": {},
   "outputs": [
    {
     "name": "stdout",
     "output_type": "stream",
     "text": [
      "root\n",
      " |-- AIRLINE_CODE: string (nullable = true)\n",
      " |-- ORIGIN: string (nullable = true)\n",
      " |-- DEST: string (nullable = true)\n",
      " |-- CRS_ELAPSED_TIME: double (nullable = true)\n",
      " |-- DISTANCE: double (nullable = true)\n",
      " |-- DEP_HOUR: integer (nullable = true)\n",
      " |-- DEP_MINUTE: integer (nullable = true)\n",
      " |-- ARR_HOUR: integer (nullable = true)\n",
      " |-- ARR_MINUTE: integer (nullable = true)\n",
      " |-- DEP_DAY_OF_WEEK: integer (nullable = true)\n",
      " |-- DEP_MONTH: integer (nullable = true)\n",
      " |-- DEP_DAY_OF_MONTH: integer (nullable = true)\n",
      " |-- DEP_WEEK_OF_YEAR: integer (nullable = true)\n",
      " |-- IS_WEEKEND: integer (nullable = false)\n",
      " |-- DISTANCE_PER_MINUTE: double (nullable = true)\n",
      " |-- SEVERE_DELAY: integer (nullable = false)\n",
      "\n"
     ]
    }
   ],
   "source": [
    "final_df.printSchema()"
   ]
  },
  {
   "cell_type": "code",
   "execution_count": 11,
   "id": "04e89d1b-497d-43a3-9797-8510a02286bf",
   "metadata": {},
   "outputs": [
    {
     "name": "stdout",
     "output_type": "stream",
     "text": [
      "+------------+------+----+----------------+--------+--------+----------+--------+----------+---------------+---------+----------------+----------------+----------+-------------------+------------+\n",
      "|AIRLINE_CODE|ORIGIN|DEST|CRS_ELAPSED_TIME|DISTANCE|DEP_HOUR|DEP_MINUTE|ARR_HOUR|ARR_MINUTE|DEP_DAY_OF_WEEK|DEP_MONTH|DEP_DAY_OF_MONTH|DEP_WEEK_OF_YEAR|IS_WEEKEND|DISTANCE_PER_MINUTE|SEVERE_DELAY|\n",
      "+------------+------+----+----------------+--------+--------+----------+--------+----------+---------------+---------+----------------+----------------+----------+-------------------+------------+\n",
      "|UA          |FLL   |EWR |186.0           |1065.0  |11      |55        |15      |1         |4              |1        |9               |2               |0         |5.725806420828998  |0           |\n",
      "|DL          |MSP   |SEA |235.0           |1399.0  |21      |20        |23      |15        |7              |11       |19              |46              |1         |5.953191464028973  |0           |\n",
      "|UA          |DEN   |MSP |118.0           |680.0   |9       |54        |12      |52        |6              |7        |22              |29              |0         |5.762711815570239  |0           |\n",
      "|DL          |MSP   |SFO |260.0           |1589.0  |16      |9         |18      |29        |2              |3        |6               |10              |0         |6.111538438032545  |0           |\n",
      "|NK          |MCO   |DFW |181.0           |985.0   |18      |40        |20      |41        |1              |2        |23              |8               |1         |5.441988920210006  |0           |\n",
      "+------------+------+----+----------------+--------+--------+----------+--------+----------+---------------+---------+----------------+----------------+----------+-------------------+------------+\n",
      "only showing top 5 rows\n",
      "\n"
     ]
    }
   ],
   "source": [
    "final_df.show(5, truncate=False)"
   ]
  },
  {
   "cell_type": "markdown",
   "id": "099e032b-c604-4cd3-8d84-11ac64921e2f",
   "metadata": {},
   "source": [
    "# 4. Creating Pipeline"
   ]
  },
  {
   "cell_type": "code",
   "execution_count": 12,
   "id": "591dde06-efce-498c-baa2-82cbe58d4432",
   "metadata": {},
   "outputs": [],
   "source": [
    "categorical_cols = [\"AIRLINE_CODE\", \"ORIGIN\", \"DEST\"]\n",
    "numerical_cols = [col for col in featureCols if col not in categorical_cols]\n",
    "\n",
    "indexers = [\n",
    "    StringIndexer(inputCol = col, outputCol = col+'Index', handleInvalid = \"keep\")\n",
    "    for col in categorical_cols\n",
    "]\n",
    "\n",
    "encoders = [\n",
    "    OneHotEncoder(inputCol= col+'Index', outputCol = col+'OHE')\n",
    "    for col in categorical_cols\n",
    "]\n",
    "\n",
    "num_vector_assembler = VectorAssembler(\n",
    "    inputCols=numerical_cols,\n",
    "    outputCol=\"NumFeatures\"\n",
    ")\n",
    "\n",
    "scaler = StandardScaler(inputCol=\"NumFeatures\", outputCol=\"ScaledNumFeatures\", withStd=True, withMean=True)\n",
    "\n",
    "final_vector_assembler = VectorAssembler(\n",
    "    inputCols=[col+'OHE' for col in categorical_cols] + [\"ScaledNumFeatures\"], \n",
    "    outputCol=\"features\"\n",
    ")"
   ]
  },
  {
   "cell_type": "code",
   "execution_count": 13,
   "id": "2de9dbfb-c15e-42a1-8290-ce581147027d",
   "metadata": {},
   "outputs": [
    {
     "name": "stderr",
     "output_type": "stream",
     "text": [
      "                                                                                "
     ]
    }
   ],
   "source": [
    "# Build Preprocessing Pipeline\n",
    "pipeline = Pipeline(stages = indexers + encoders + [num_vector_assembler, scaler, final_vector_assembler])\n",
    "pipeline_model = pipeline.fit(final_df)\n",
    "processed_df = pipeline_model.transform(final_df)"
   ]
  },
  {
   "cell_type": "markdown",
   "id": "6bb6f522-da2d-4dca-95b6-2d7226e466c5",
   "metadata": {},
   "source": [
    "### Show Results"
   ]
  },
  {
   "cell_type": "code",
   "execution_count": 14,
   "id": "faacf046-338d-4225-9ebc-4f9af3dffcdf",
   "metadata": {},
   "outputs": [
    {
     "name": "stdout",
     "output_type": "stream",
     "text": [
      "root\n",
      " |-- AIRLINE_CODE: string (nullable = true)\n",
      " |-- ORIGIN: string (nullable = true)\n",
      " |-- DEST: string (nullable = true)\n",
      " |-- CRS_ELAPSED_TIME: double (nullable = true)\n",
      " |-- DISTANCE: double (nullable = true)\n",
      " |-- DEP_HOUR: integer (nullable = true)\n",
      " |-- DEP_MINUTE: integer (nullable = true)\n",
      " |-- ARR_HOUR: integer (nullable = true)\n",
      " |-- ARR_MINUTE: integer (nullable = true)\n",
      " |-- DEP_DAY_OF_WEEK: integer (nullable = true)\n",
      " |-- DEP_MONTH: integer (nullable = true)\n",
      " |-- DEP_DAY_OF_MONTH: integer (nullable = true)\n",
      " |-- DEP_WEEK_OF_YEAR: integer (nullable = true)\n",
      " |-- IS_WEEKEND: integer (nullable = false)\n",
      " |-- DISTANCE_PER_MINUTE: double (nullable = true)\n",
      " |-- SEVERE_DELAY: integer (nullable = false)\n",
      " |-- AIRLINE_CODEIndex: double (nullable = false)\n",
      " |-- ORIGINIndex: double (nullable = false)\n",
      " |-- DESTIndex: double (nullable = false)\n",
      " |-- AIRLINE_CODEOHE: vector (nullable = true)\n",
      " |-- ORIGINOHE: vector (nullable = true)\n",
      " |-- DESTOHE: vector (nullable = true)\n",
      " |-- NumFeatures: vector (nullable = true)\n",
      " |-- ScaledNumFeatures: vector (nullable = true)\n",
      " |-- features: vector (nullable = true)\n",
      "\n"
     ]
    }
   ],
   "source": [
    "processed_df.printSchema()"
   ]
  },
  {
   "cell_type": "code",
   "execution_count": 15,
   "id": "534dce8e-6272-4efb-bfd0-0a54715a96ea",
   "metadata": {},
   "outputs": [
    {
     "name": "stdout",
     "output_type": "stream",
     "text": [
      "+---------------------------------------------------------------------------------------------------------------------------------------------------------------------------------------------------------------------------------------------------------------------------------------------------------------------------+------------+\n",
      "|features                                                                                                                                                                                                                                                                                                                   |SEVERE_DELAY|\n",
      "+---------------------------------------------------------------------------------------------------------------------------------------------------------------------------------------------------------------------------------------------------------------------------------------------------------------------------+------------+\n",
      "|(790,[4,41,416,778,779,780,781,782,783,784,785,786,787,788,789],[1.0,1.0,1.0,0.6326845353914683,0.4550976819090309,-0.4116056899401672,1.5441899326258433,0.07642670284998844,-1.625085701382526,0.021353877312532864,-1.5597283294777025,-0.7666452851102192,-1.5913758952147672,-0.6137846345639102,0.41511251621718814])|0           |\n",
      "|(790,[1,31,406,778,779,780,781,782,783,784,785,786,787,788,789],[1.0,1.0,1.0,1.3326829774807987,1.0384857387796522,1.6576604839168767,-0.38273290367822493,1.6430565317319366,-0.8271873777330095,1.5328498479912556,1.3993669335002896,0.3749452127779023,1.3919758214697462,1.629235402458654,0.5762717241185433])       |0           |\n",
      "|(790,[4,21,411,778,779,780,781,782,783,784,785,786,787,788,789],[1.0,1.0,1.0,-0.3387418740386229,-0.21737058723824224,-0.825458924711576,1.489134994445727,-0.5110594829807421,1.2815439061978553,1.0290178577650146,0.21572882830909276,0.7174223621443387,0.23931720365982065,-0.6137846345639102,0.4412692242402159])   |0           |\n",
      "|(790,[1,31,412,778,779,780,781,782,783,784,785,786,787,788,789],[1.0,1.0,1.0,1.6898250397712733,1.370353196280904,0.6230273969883547,-0.9883372236595035,0.663912888680719,-0.02928905408349314,-0.9863101031399489,-0.967909276882104,-1.1091224344766557,-1.0489483103630375,-0.6137846345639102,0.6885001827051936])    |0           |\n",
      "|(790,[11,27,399,778,779,780,781,782,783,784,785,786,787,788,789],[1.0,1.0,1.0,0.5612561229333733,0.3153640155927144,1.0368806317597634,0.7183658599240997,1.055570345901206,0.6546237947589495,-1.49014209336619,-1.2638188031799034,0.8315814119331509,-1.18455520657597,1.629235402458654,0.213956789593283])            |0           |\n",
      "+---------------------------------------------------------------------------------------------------------------------------------------------------------------------------------------------------------------------------------------------------------------------------------------------------------------------------+------------+\n",
      "only showing top 5 rows\n",
      "\n"
     ]
    }
   ],
   "source": [
    "processed_df.select(\"features\", labelCol).show(5, truncate=False)"
   ]
  },
  {
   "cell_type": "markdown",
   "id": "5d1e49c6-2f11-4b05-8bdc-74678ef5be83",
   "metadata": {},
   "source": [
    "# 5. Training Models"
   ]
  },
  {
   "cell_type": "code",
   "execution_count": 16,
   "id": "4b21234f-49e6-40d8-bb90-9aff41f55fe3",
   "metadata": {},
   "outputs": [
    {
     "name": "stderr",
     "output_type": "stream",
     "text": [
      "                                                                                "
     ]
    }
   ],
   "source": [
    "# Train/Test Split\n",
    "model_data = processed_df.select(\"features\", labelCol).withColumnRenamed(labelCol, \"label\")\n",
    "train_df, test_df = model_data.randomSplit([0.8, 0.2], seed=101)\n",
    "\n",
    "label_indexer = StringIndexer(inputCol=\"label\", outputCol=\"indexedLabel\")\n",
    "label_indexer_model = label_indexer.fit(train_df)\n",
    "\n",
    "train_df = label_indexer_model.transform(train_df)\n",
    "test_df = label_indexer_model.transform(test_df)"
   ]
  },
  {
   "cell_type": "code",
   "execution_count": 18,
   "id": "f7f975f6",
   "metadata": {},
   "outputs": [],
   "source": [
    "train_df_weighted = train_df.withColumn(\n",
    "    \"classWeightCol\",\n",
    "    F.when(F.col(\"indexedLabel\") == 0.0, 0.2).otherwise(1.0)\n",
    ")"
   ]
  },
  {
   "cell_type": "markdown",
   "id": "570a516b",
   "metadata": {},
   "source": [
    "### Random Forest Model"
   ]
  },
  {
   "cell_type": "code",
   "execution_count": 19,
   "id": "4b6d4cd5-79d1-4e39-a4f6-6cfbef9e3ee9",
   "metadata": {},
   "outputs": [
    {
     "name": "stderr",
     "output_type": "stream",
     "text": [
      "25/04/29 19:09:56 WARN MemoryStore: Not enough space to cache rdd_85_5 in memory! (computed 930.2 MiB so far)\n",
      "25/04/29 19:09:56 WARN BlockManager: Persisting block rdd_85_5 to disk instead.\n",
      "25/04/29 19:09:56 WARN MemoryStore: Not enough space to cache rdd_85_2 in memory! (computed 930.2 MiB so far)\n",
      "25/04/29 19:09:56 WARN BlockManager: Persisting block rdd_85_2 to disk instead.\n",
      "25/04/29 19:09:56 WARN MemoryStore: Not enough space to cache rdd_85_3 in memory! (computed 930.2 MiB so far)\n",
      "25/04/29 19:09:56 WARN BlockManager: Persisting block rdd_85_3 to disk instead.\n",
      "25/04/29 19:09:56 WARN MemoryStore: Not enough space to cache rdd_85_4 in memory! (computed 930.2 MiB so far)\n",
      "25/04/29 19:09:56 WARN BlockManager: Persisting block rdd_85_4 to disk instead.\n",
      "25/04/29 19:09:56 WARN MemoryStore: Not enough space to cache rdd_85_6 in memory! (computed 930.2 MiB so far)\n",
      "25/04/29 19:09:56 WARN BlockManager: Persisting block rdd_85_6 to disk instead.\n",
      "                                                                                "
     ]
    }
   ],
   "source": [
    "rf = RandomForestClassifier(\n",
    "    featuresCol=\"features\", \n",
    "    labelCol=\"label\", \n",
    "    numTrees=30, \n",
    "    maxDepth=5, \n",
    "    seed=101\n",
    "    )\n",
    "\n",
    "rf_model = rf.fit(train_df_weighted)"
   ]
  },
  {
   "cell_type": "markdown",
   "id": "20ee9efa",
   "metadata": {},
   "source": [
    "### Logistic Regression Model"
   ]
  },
  {
   "cell_type": "code",
   "execution_count": 20,
   "id": "2cb09b24",
   "metadata": {},
   "outputs": [
    {
     "name": "stderr",
     "output_type": "stream",
     "text": [
      "25/04/29 19:10:29 WARN InstanceBuilder: Failed to load implementation from:dev.ludovic.netlib.blas.JNIBLAS\n",
      "25/04/29 19:10:29 WARN InstanceBuilder: Failed to load implementation from:dev.ludovic.netlib.blas.VectorBLAS\n",
      "                                                                                "
     ]
    }
   ],
   "source": [
    "lr = LogisticRegression(\n",
    "    featuresCol=\"features\", \n",
    "    labelCol=\"label\", \n",
    "    maxIter=30, \n",
    "    regParam=0.1, \n",
    "    elasticNetParam=0.8\n",
    ")\n",
    "\n",
    "lr_model = lr.fit(train_df_weighted)"
   ]
  },
  {
   "cell_type": "markdown",
   "id": "7a6676dd",
   "metadata": {},
   "source": [
    "### GBTClassifier Model"
   ]
  },
  {
   "cell_type": "code",
   "execution_count": 21,
   "id": "5597e88c",
   "metadata": {},
   "outputs": [
    {
     "name": "stderr",
     "output_type": "stream",
     "text": [
      "25/04/29 19:11:39 WARN MemoryStore: Not enough space to cache rdd_174_1 in memory! (computed 884.1 MiB so far)\n",
      "25/04/29 19:11:39 WARN BlockManager: Persisting block rdd_174_1 to disk instead.\n",
      "25/04/29 19:11:39 WARN MemoryStore: Not enough space to cache rdd_174_3 in memory! (computed 884.1 MiB so far)\n",
      "25/04/29 19:11:39 WARN BlockManager: Persisting block rdd_174_3 to disk instead.\n",
      "25/04/29 19:11:39 WARN MemoryStore: Not enough space to cache rdd_174_6 in memory! (computed 884.1 MiB so far)\n",
      "25/04/29 19:11:39 WARN BlockManager: Persisting block rdd_174_6 to disk instead.\n",
      "                                                                                "
     ]
    }
   ],
   "source": [
    "gbt = GBTClassifier(\n",
    "    featuresCol=\"features\", \n",
    "    labelCol=\"label\", \n",
    "    weightCol=\"classWeightCol\", \n",
    "    maxIter=50, \n",
    "    maxDepth=5, \n",
    "    stepSize=0.1, \n",
    "    seed=101)\n",
    "\n",
    "gbt_model = gbt.fit(train_df_weighted)"
   ]
  },
  {
   "cell_type": "markdown",
   "id": "bb3dd08a",
   "metadata": {},
   "source": [
    "## 6. Evaluate Models"
   ]
  },
  {
   "cell_type": "code",
   "execution_count": 22,
   "id": "8b55f6ff-67d9-4c4e-b0f8-ee59fc19beb1",
   "metadata": {},
   "outputs": [
    {
     "name": "stderr",
     "output_type": "stream",
     "text": [
      "/home/jj/.local/lib/python3.8/site-packages/pyspark/sql/context.py:158: FutureWarning: Deprecated in 3.0.0. Use SparkSession.builder.getOrCreate() instead.\n",
      "  warnings.warn(\n"
     ]
    },
    {
     "name": "stdout",
     "output_type": "stream",
     "text": [
      "\n",
      "Random Forest Evaluation:\n",
      "Accuracy: 0.9388\n",
      "Precision: 0.8813\n",
      "Recall: 0.9388\n",
      "F1 Score: 0.9091\n"
     ]
    },
    {
     "name": "stderr",
     "output_type": "stream",
     "text": [
      "                                                                                "
     ]
    },
    {
     "data": {
      "image/png": "[encoded data removed]",
      "text/plain": [
       "<Figure size 600x500 with 2 Axes>"
      ]
     },
     "metadata": {},
     "output_type": "display_data"
    },
    {
     "name": "stderr",
     "output_type": "stream",
     "text": [
      "                                                                                "
     ]
    },
    {
     "name": "stdout",
     "output_type": "stream",
     "text": [
      "\n",
      "Logistic Regression Evaluation:\n",
      "Accuracy: 0.9388\n",
      "Precision: 0.8813\n",
      "Recall: 0.9388\n",
      "F1 Score: 0.9091\n"
     ]
    },
    {
     "name": "stderr",
     "output_type": "stream",
     "text": [
      "/home/jj/.local/lib/python3.8/site-packages/pyspark/sql/context.py:158: FutureWarning: Deprecated in 3.0.0. Use SparkSession.builder.getOrCreate() instead.\n",
      "  warnings.warn(\n",
      "                                                                                "
     ]
    },
    {
     "data": {
      "image/png": "[encoded data removed]",
      "text/plain": [
       "<Figure size 600x500 with 2 Axes>"
      ]
     },
     "metadata": {},
     "output_type": "display_data"
    },
    {
     "name": "stderr",
     "output_type": "stream",
     "text": [
      "/home/jj/.local/lib/python3.8/site-packages/pyspark/sql/context.py:158: FutureWarning: Deprecated in 3.0.0. Use SparkSession.builder.getOrCreate() instead.\n",
      "  warnings.warn(\n"
     ]
    },
    {
     "name": "stdout",
     "output_type": "stream",
     "text": [
      "\n",
      "GBT Evaluation:\n",
      "Accuracy: 0.9298\n",
      "Precision: 0.8986\n",
      "Recall: 0.9298\n",
      "F1 Score: 0.9108\n"
     ]
    },
    {
     "name": "stderr",
     "output_type": "stream",
     "text": [
      "                                                                                "
     ]
    },
    {
     "data": {
      "image/png": "[encoded data removed]",
      "text/plain": [
       "<Figure size 600x500 with 2 Axes>"
      ]
     },
     "metadata": {},
     "output_type": "display_data"
    }
   ],
   "source": [
    "# Evaluate Models\n",
    "models = {\n",
    "    \"Random Forest\": rf_model,\n",
    "    \"Logistic Regression\": lr_model,\n",
    "    \"GBT\": gbt_model\n",
    "}\n",
    "\n",
    "for model_name, model in models.items():\n",
    "    predictions = model.transform(test_df)\n",
    "\n",
    "    evaluator = BinaryClassificationEvaluator(\n",
    "        rawPredictionCol=\"rawPrediction\", labelCol=\"label\", metricName=\"areaUnderROC\"\n",
    "    )\n",
    "    auc = evaluator.evaluate(predictions)\n",
    "\n",
    "    evaluator_multi = MulticlassClassificationEvaluator(predictionCol=\"prediction\", labelCol=\"label\")\n",
    "    accuracy = evaluator_multi.setMetricName(\"accuracy\").evaluate(predictions)\n",
    "    precision = evaluator_multi.setMetricName(\"weightedPrecision\").evaluate(predictions)\n",
    "    recall = evaluator_multi.setMetricName(\"weightedRecall\").evaluate(predictions)\n",
    "    f1 = evaluator_multi.setMetricName(\"f1\").evaluate(predictions)\n",
    "\n",
    "    print(f\"\\n{model_name} Evaluation:\")\n",
    "    print(f\"Accuracy: {accuracy:.4f}\")\n",
    "    print(f\"Precision: {precision:.4f}\")\n",
    "    print(f\"Recall: {recall:.4f}\")\n",
    "    print(f\"F1 Score: {f1:.4f}\")\n",
    "\n",
    "    # Confusion Matrix\n",
    "    preds_and_labels = predictions.select(\n",
    "        (F.round(\"prediction\")).alias(\"prediction\"),\n",
    "        \"label\"\n",
    "    ).rdd.map(lambda row: (float(row.prediction), float(row.label)))\n",
    "\n",
    "    metrics = MulticlassMetrics(preds_and_labels)\n",
    "    cm = metrics.confusionMatrix().toArray()\n",
    "\n",
    "    plt.figure(figsize=(6,5))\n",
    "    sns.heatmap(cm, annot=True, fmt=\".0f\", cmap=\"Blues\",\n",
    "                xticklabels=[\"No Delay\", \"Severe Delay\"],\n",
    "                yticklabels=[\"No Delay\", \"Severe Delay\"])\n",
    "    plt.title(f\"Confusion Matrix: {model_name}\")\n",
    "    plt.xlabel(\"Predicted\")\n",
    "    plt.ylabel(\"Actual\")\n",
    "    plt.show()\n"
   ]
  },
  {
   "cell_type": "code",
   "execution_count": 23,
   "id": "a1f87400-fa72-4a0f-aab9-288bd23b58a5",
   "metadata": {},
   "outputs": [
    {
     "name": "stderr",
     "output_type": "stream",
     "text": [
      "                                                                                "
     ]
    },
    {
     "name": "stdout",
     "output_type": "stream",
     "text": [
      "\n",
      "Spark Session Stopped.\n"
     ]
    }
   ],
   "source": [
    "# Save GBT Model and Pipeline\n",
    "pipeline_path = \"./flight_delay_gbt_pipeline_model\"\n",
    "model_path = \"./flight_delay_gbt_model\"\n",
    "\n",
    "pipeline_model.write().overwrite().save(pipeline_path)\n",
    "gbt_model.write().overwrite().save(model_path)\n",
    "\n",
    "spark.stop()\n",
    "print(\"\\nSpark Session Stopped.\")\n"
   ]
  },
  {
   "cell_type": "code",
   "execution_count": null,
   "id": "0949b5a1-1834-4bfe-b30b-7108968846de",
   "metadata": {},
   "outputs": [],
   "source": []
  }
 ],
 "metadata": {
  "kernelspec": {
   "display_name": "Python 3 (ipykernel)",
   "language": "python",
   "name": "python3"
  },
  "language_info": {
   "codemirror_mode": {
    "name": "ipython",
    "version": 3
   },
   "file_extension": ".py",
   "mimetype": "text/x-python",
   "name": "python",
   "nbconvert_exporter": "python",
   "pygments_lexer": "ipython3",
   "version": "3.8.10"
  }
 },
 "nbformat": 4,
 "nbformat_minor": 5
}
